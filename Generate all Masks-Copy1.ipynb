{
 "cells": [
  {
   "cell_type": "code",
   "execution_count": 1,
   "metadata": {},
   "outputs": [
    {
     "name": "stderr",
     "output_type": "stream",
     "text": [
      "/usr/local/lib/python3.5/dist-packages/h5py/__init__.py:36: FutureWarning: Conversion of the second argument of issubdtype from `float` to `np.floating` is deprecated. In future, it will be treated as `np.float64 == np.dtype(float).type`.\n",
      "  from ._conv import register_converters as _register_converters\n",
      "Using TensorFlow backend.\n"
     ]
    },
    {
     "name": "stdout",
     "output_type": "stream",
     "text": [
      "channels_last\n"
     ]
    }
   ],
   "source": [
    "import matplotlib.pyplot as plt\n",
    "%matplotlib inline\n",
    "import numpy as np\n",
    "import cv2\n",
    "from os.path import join\n",
    "import os\n",
    "import random\n",
    "from functools import partial\n",
    "from keras.models import Model, load_model\n",
    "from keras.layers import Input, Conv2D, MaxPooling2D, UpSampling2D, Reshape, concatenate\n",
    "from keras.optimizers import Nadam\n",
    "from keras.layers.advanced_activations import ELU\n",
    "from keras.layers.normalization import BatchNormalization\n",
    "from keras import backend as K\n",
    "from keras.backend import binary_crossentropy\n",
    "import ntpath\n",
    "\n",
    "import tensorflow as tf\n",
    "\n",
    "K.clear_session()\n",
    "K.set_image_dim_ordering('tf')\n",
    "\n",
    "print(K.image_data_format())\n",
    "smooth = 1e-12\n",
    "num_examples = 0"
   ]
  },
  {
   "cell_type": "code",
   "execution_count": 2,
   "metadata": {},
   "outputs": [],
   "source": [
    "from keras.losses import binary_crossentropy\n",
    "import keras.backend as K\n",
    "\n",
    "\n",
    "def dice_coeff(y_true, y_pred):\n",
    "    smooth = 1.\n",
    "    y_true_f = K.flatten(y_true)\n",
    "    y_pred_f = K.flatten(y_pred)\n",
    "    intersection = K.sum(y_true_f * y_pred_f)\n",
    "    score = (2. * intersection + smooth) / (K.sum(y_true_f) + K.sum(y_pred_f) + smooth)\n",
    "    return score\n",
    "\n",
    "\n",
    "def jaccard_coef(y_true, y_pred, smooth=0.0):\n",
    "    '''Average jaccard coefficient per batch.'''\n",
    "    axes = (1,2,3)\n",
    "    intersection = K.sum(y_true * y_pred, axis=axes)\n",
    "    union = K.sum(y_true, axis=axes) + K.sum(y_pred, axis=axes) - intersection\n",
    "    return K.mean( (intersection + smooth) / (union + smooth), axis=0)\n",
    "\n",
    "\n",
    "def dice_loss(y_true, y_pred):\n",
    "    loss = 1 - dice_coeff(y_true, y_pred)\n",
    "    return loss\n",
    "\n",
    "\n",
    "def bce_dice_loss(y_true, y_pred):\n",
    "    loss = binary_crossentropy(y_true, y_pred)\n",
    "    return loss\n",
    "\n",
    "def unet_loss(y_true, y_pred):\n",
    "    loss = bce_dice_loss(y_true,y_pred) - K.log(jaccard_coef(y_true,y_pred))\n",
    "    return loss"
   ]
  },
  {
   "cell_type": "code",
   "execution_count": 3,
   "metadata": {},
   "outputs": [],
   "source": [
    "def preprocessmask(gray):\n",
    "    ret, gray = cv2.threshold(gray, 200, 1,cv2.THRESH_BINARY)\n",
    "    imageha, contours, hierarchy = cv2.findContours(gray, cv2.RETR_LIST, cv2.CHAIN_APPROX_SIMPLE)\n",
    "    largest_areas = sorted(contours, key=cv2.contourArea)\n",
    "    #x,y,w,h = cv2.boundingRect(largest_areas[-1])\n",
    "    mask = np.zeros((512,512),dtype= np.uint8)\n",
    "    cv2.drawContours(mask, [largest_areas[-1]], 0, (255,255,255,255), -1)\n",
    "    return mask"
   ]
  },
  {
   "cell_type": "code",
   "execution_count": null,
   "metadata": {},
   "outputs": [],
   "source": [
    "model = load_model('accunetnew.h5', custom_objects={'unet_loss':unet_loss})"
   ]
  },
  {
   "cell_type": "code",
   "execution_count": null,
   "metadata": {},
   "outputs": [],
   "source": [
    "import glob\n",
    "import ntpath\n",
    "count=0\n",
    "image_size = 512\n",
    "orig_path = \"/home/ubuntu/research/train/btrain/*\"\n",
    "output_overlay_path = \"/home/ubuntu/research/train/masks2/\"\n",
    "orig = glob.glob(orig_path)\n",
    "for fl in orig:\n",
    "    orig_images= cv2.imread(fl)\n",
    "    orig_images = cv2.resize(orig_images, (512, 512))\n",
    "    image = np.expand_dims(orig_images, axis=0)\n",
    "    mpo = model.predict(image)\n",
    "    a = np.uint8(mpo*255)\n",
    "    a = a.reshape(512,512,1)\n",
    "    k=preprocessmask(a)\n",
    "    basenm = ntpath.basename(fl)\n",
    "    nm_output_mask = output_overlay_path+basenm\n",
    "    cv2.imwrite(nm_output_mask,k)"
   ]
  },
  {
   "cell_type": "code",
   "execution_count": null,
   "metadata": {},
   "outputs": [],
   "source": [
    "orig_images= cv2.imread(fl)\n",
    "#gray = cv2.cvtColor(a, cv2.COLOR_BGR2GRAY)\n",
    "orig_images = cv2.resize(orig_images, (512, 512))\n",
    "image = np.expand_dims(orig_images, axis=0)\n",
    "mpo = model.predict(image)\n",
    "a = np.uint8(mpo*255)\n",
    "a = a.reshape(512,512)\n",
    "k=preprocessmask(a)\n",
    "plt.imshow(k)\n",
    "plt.show()"
   ]
  },
  {
   "cell_type": "code",
   "execution_count": null,
   "metadata": {},
   "outputs": [],
   "source": [
    "np.unique(mpo)"
   ]
  },
  {
   "cell_type": "code",
   "execution_count": null,
   "metadata": {},
   "outputs": [],
   "source": []
  }
 ],
 "metadata": {
  "kernelspec": {
   "display_name": "Python 3",
   "language": "python",
   "name": "python3"
  },
  "language_info": {
   "codemirror_mode": {
    "name": "ipython",
    "version": 3
   },
   "file_extension": ".py",
   "mimetype": "text/x-python",
   "name": "python",
   "nbconvert_exporter": "python",
   "pygments_lexer": "ipython3",
   "version": "3.5.2"
  }
 },
 "nbformat": 4,
 "nbformat_minor": 2
}
