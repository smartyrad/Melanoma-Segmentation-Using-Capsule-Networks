{
 "cells": [
  {
   "cell_type": "code",
   "execution_count": 2,
   "metadata": {},
   "outputs": [
    {
     "name": "stdout",
     "output_type": "stream",
     "text": [
      "channels_last\n"
     ]
    }
   ],
   "source": [
    "import matplotlib.pyplot as plt\n",
    "%matplotlib inline\n",
    "import numpy as np\n",
    "import cv2\n",
    "from os.path import join\n",
    "import os\n",
    "import random\n",
    "from functools import partial\n",
    "from keras.models import Model, load_model\n",
    "from keras.layers import Input, Conv2D, MaxPooling2D, UpSampling2D, Reshape, concatenate\n",
    "from keras.optimizers import Nadam\n",
    "from keras.layers.advanced_activations import ELU\n",
    "from keras.layers.normalization import BatchNormalization\n",
    "from keras import backend as K\n",
    "from keras.backend import binary_crossentropy\n",
    "import tensorflow as tf\n",
    "\n",
    "K.set_image_data_format('channels_last')\n",
    "\n",
    "print(K.image_data_format())\n",
    "smooth = 1e-12\n",
    "num_examples = 0"
   ]
  },
  {
   "cell_type": "code",
   "execution_count": 2,
   "metadata": {},
   "outputs": [
    {
     "name": "stdout",
     "output_type": "stream",
     "text": [
      "Loading masks\n",
      "loading original\n"
     ]
    }
   ],
   "source": [
    "import glob\n",
    "import ntpath\n",
    "image_size = 512\n",
    "def load_files():\n",
    "    global image_size\n",
    "    global num_examples\n",
    "    mask_images=[]\n",
    "    ori_images = []\n",
    "    \n",
    "    #training masks\n",
    "    overlay_path = \"train/overlay/*\"\n",
    "    overlay = glob.glob(overlay_path)\n",
    "    mask_path = \"train/masks1/\"\n",
    "    mask_set1 = \"unet_train/gt/*\"\n",
    "    ogmask = glob.glob(mask_set1)\n",
    "    print(\"Loading masks\")\n",
    "    for fl in overlay:\n",
    "        basenm = ntpath.basename(fl)\n",
    "        nm_output_mask = mask_path+basenm\n",
    "        train_image = cv2.imread(nm_output_mask,0)\n",
    "        retval, train_image = cv2.threshold(train_image, 150, 1, cv2.THRESH_BINARY)\n",
    "        train_image = cv2.resize(train_image, (image_size, image_size))\n",
    "        train_image = np.expand_dims(train_image, axis=2)\n",
    "        mask_images.append(train_image)\n",
    "    for fl in ogmask:\n",
    "        train_image = cv2.imread(fl,0)\n",
    "        shape = train_image.shape\n",
    "        #Supervisely gives 3 images in out and we need the mask only\n",
    "        start = shape[1]//3\n",
    "        start = start * 2\n",
    "        end = shape[1]\n",
    "        train_image = train_image[: , start:end]\n",
    "        retval, train_image = cv2.threshold(train_image, 150, 1, cv2.THRESH_BINARY)\n",
    "        train_image = cv2.resize(train_image, (image_size, image_size))\n",
    "        train_image = np.expand_dims(train_image, axis=2)\n",
    "        mask_images.append(train_image)\n",
    "        \n",
    "    #original images\n",
    "    orig_path = \"train/btrain/\"\n",
    "    og_set1 = \"unet_train/orig/*\"\n",
    "    og = glob.glob(og_set1)\n",
    "    print(\"loading original\")\n",
    "    for fl in overlay:\n",
    "        basenm = ntpath.basename(fl)\n",
    "        nm_output_og = orig_path+basenm\n",
    "        orig_images = cv2.imread(nm_output_og)\n",
    "        orig_images = cv2.resize(orig_images, (image_size, image_size))\n",
    "        ori_images.append(orig_images)\n",
    "    for fl in og:\n",
    "        orig_images = cv2.imread(fl)\n",
    "        orig_images = cv2.resize(orig_images, (image_size, image_size))\n",
    "        ori_images.append(orig_images)\n",
    "        \n",
    "    masked = np.array(mask_images)\n",
    "    origi = np.array(ori_images)\n",
    "    num_examples = masked.shape[0]\n",
    "    return masked, origi\n",
    "\n",
    "masks, origi = load_files()"
   ]
  },
  {
   "cell_type": "code",
   "execution_count": 2,
   "metadata": {},
   "outputs": [
    {
     "name": "stdout",
     "output_type": "stream",
     "text": [
      "Loading masks\n",
      "loading original\n"
     ]
    }
   ],
   "source": [
    "import glob\n",
    "image_size = 512\n",
    "def load_files():\n",
    "    global image_size\n",
    "    global num_examples\n",
    "    mask_images=[]\n",
    "    ori_images = []\n",
    "\n",
    "    mask_path = \"unet_train/gt/*\"\n",
    "    masks = glob.glob(mask_path)\n",
    "    print(\"Loading masks\")\n",
    "    for fl in masks:\n",
    "        train_image = cv2.imread(fl, cv2.IMREAD_GRAYSCALE)\n",
    "        shape = train_image.shape\n",
    "        #Supervisely gives 3 images in out and we need the mask only\n",
    "        start = shape[1]//3\n",
    "        start = start * 2\n",
    "        end = shape[1]\n",
    "        train_image = train_image[: , start:end]\n",
    "        train_image = cv2.resize(train_image, (image_size, image_size))\n",
    "        mask_images.append(train_image)\n",
    "    orig_path = \"unet_train/orig/*\"\n",
    "    orig = glob.glob(orig_path)\n",
    "    print(\"loading original\")\n",
    "    for fl in orig:\n",
    "        orig_images = cv2.imread(fl)\n",
    "        orig_images = cv2.resize(orig_images, (image_size, image_size))\n",
    "        ori_images.append(orig_images)\n",
    "    masked = np.array(mask_images)\n",
    "    origi = np.array(ori_images)\n",
    "    num_examples = masked.shape[0]\n",
    "    return masked, origi\n",
    "\n",
    "masks, origi = load_files()\n"
   ]
  },
  {
   "cell_type": "code",
   "execution_count": 3,
   "metadata": {},
   "outputs": [
    {
     "data": {
      "text/plain": [
       "(12033, 512, 512, 1)"
      ]
     },
     "execution_count": 3,
     "metadata": {},
     "output_type": "execute_result"
    }
   ],
   "source": [
    "\n",
    "masks.shape"
   ]
  },
  {
   "cell_type": "code",
   "execution_count": 3,
   "metadata": {},
   "outputs": [],
   "source": [
    "'''\n",
    "Capsules for Object Segmentation (SegCaps)\n",
    "Original Paper by Rodney LaLonde and Ulas Bagci (https://arxiv.org/abs/1804.04241)\n",
    "Code written by: Rodney LaLonde\n",
    "If you use significant portions of this code or the ideas from our paper, please cite it :)\n",
    "If you have any questions, please email me at lalonde@knights.ucf.edu.\n",
    "\n",
    "This file contains the network definitions for the various capsule network architectures.\n",
    "'''\n",
    "\n",
    "from keras import layers, models\n",
    "from keras.utils import print_summary\n",
    "\n",
    "from capsule_layers import ConvCapsuleLayer, DeconvCapsuleLayer, Mask, Length\n",
    "\n",
    "def capsnet(input_shape=(512, 512, 3),\n",
    "                 n_class=1):\n",
    "    x = layers.Input(shape=input_shape)\n",
    "\n",
    "    # Layer 1: Just a conventional Conv2D layer\n",
    "    conv1 = layers.Conv2D(filters=16, kernel_size=5, strides=1, padding='same', activation='relu', name='conv1')(x)\n",
    "\n",
    "    # Reshape layer to be 1 capsule x [filters] atoms\n",
    "    _, H, W, C = conv1.get_shape()\n",
    "    conv1_reshaped = layers.Reshape((H.value, W.value, 1, C.value))(conv1)\n",
    "\n",
    "    # Layer 1: Primary Capsule: Conv cap with routing 1\n",
    "    primary_caps = ConvCapsuleLayer(kernel_size=5, num_capsule=2, num_atoms=16, strides=2, padding='same',\n",
    "                                    routings=1, name='primarycaps')(conv1_reshaped)\n",
    "\n",
    "    # Layer 2: Convolutional Capsule\n",
    "    conv_cap_2_1 = ConvCapsuleLayer(kernel_size=5, num_capsule=4, num_atoms=16, strides=1, padding='same',\n",
    "                                    routings=3, name='conv_cap_2_1')(primary_caps)\n",
    "\n",
    "    # Layer 2: Convolutional Capsule\n",
    "    conv_cap_2_2 = ConvCapsuleLayer(kernel_size=5, num_capsule=4, num_atoms=32, strides=2, padding='same',\n",
    "                                    routings=3, name='conv_cap_2_2')(conv_cap_2_1)\n",
    "\n",
    "    # Layer 3: Convolutional Capsule\n",
    "    conv_cap_3_1 = ConvCapsuleLayer(kernel_size=5, num_capsule=8, num_atoms=32, strides=1, padding='same',\n",
    "                                    routings=3, name='conv_cap_3_1')(conv_cap_2_2)\n",
    "\n",
    "    # Layer 3: Convolutional Capsule\n",
    "    conv_cap_3_2 = ConvCapsuleLayer(kernel_size=5, num_capsule=8, num_atoms=64, strides=2, padding='same',\n",
    "                                    routings=3, name='conv_cap_3_2')(conv_cap_3_1)\n",
    "\n",
    "    # Layer 4: Convolutional Capsule\n",
    "    conv_cap_4_1 = ConvCapsuleLayer(kernel_size=5, num_capsule=8, num_atoms=32, strides=1, padding='same',\n",
    "                                    routings=3, name='conv_cap_4_1')(conv_cap_3_2)\n",
    "\n",
    "    # Layer 1 Up: Deconvolutional Capsule\n",
    "    deconv_cap_1_1 = DeconvCapsuleLayer(kernel_size=4, num_capsule=8, num_atoms=32, upsamp_type='deconv',\n",
    "                                        scaling=2, padding='same', routings=3,\n",
    "                                        name='deconv_cap_1_1')(conv_cap_4_1)\n",
    "\n",
    "    # Skip connection\n",
    "    up_1 = layers.Concatenate(axis=-2, name='up_1')([deconv_cap_1_1, conv_cap_3_1])\n",
    "\n",
    "    # Layer 1 Up: Deconvolutional Capsule\n",
    "    deconv_cap_1_2 = ConvCapsuleLayer(kernel_size=5, num_capsule=4, num_atoms=32, strides=1,\n",
    "                                      padding='same', routings=3, name='deconv_cap_1_2')(up_1)\n",
    "\n",
    "    # Layer 2 Up: Deconvolutional Capsule\n",
    "    deconv_cap_2_1 = DeconvCapsuleLayer(kernel_size=4, num_capsule=4, num_atoms=16, upsamp_type='deconv',\n",
    "                                        scaling=2, padding='same', routings=3,\n",
    "                                        name='deconv_cap_2_1')(deconv_cap_1_2)\n",
    "\n",
    "    # Skip connection\n",
    "    up_2 = layers.Concatenate(axis=-2, name='up_2')([deconv_cap_2_1, conv_cap_2_1])\n",
    "\n",
    "    # Layer 2 Up: Deconvolutional Capsule\n",
    "    deconv_cap_2_2 = ConvCapsuleLayer(kernel_size=5, num_capsule=4, num_atoms=16, strides=1,\n",
    "                                      padding='same', routings=3, name='deconv_cap_2_2')(up_2)\n",
    "\n",
    "    # Layer 3 Up: Deconvolutional Capsule\n",
    "    deconv_cap_3_1 = DeconvCapsuleLayer(kernel_size=4, num_capsule=2, num_atoms=16, upsamp_type='deconv',\n",
    "                                        scaling=2, padding='same', routings=3,\n",
    "                                        name='deconv_cap_3_1')(deconv_cap_2_2)\n",
    "\n",
    "    # Skip connection\n",
    "    up_3 = layers.Concatenate(axis=-2, name='up_3')([deconv_cap_3_1, conv1_reshaped])\n",
    "\n",
    "    # Layer 4: Convolutional Capsule: 1x1\n",
    "    seg_caps = ConvCapsuleLayer(kernel_size=1, num_capsule=1, num_atoms=16, strides=1, padding='same',\n",
    "                                routings=3, name='seg_caps')(up_3)\n",
    "\n",
    "    # Layer 4: This is an auxiliary layer to replace each capsule with its length. Just to match the true label's shape.\n",
    "    out_seg = Length(num_classes=n_class, seg=True, name='out_seg')(seg_caps)\n",
    "\n",
    "\n",
    "    # Models for training and evaluation (prediction)\n",
    "    model = models.Model(inputs=x, outputs=[out_seg])\n",
    "    \n",
    "    \n",
    "    return model"
   ]
  },
  {
   "cell_type": "code",
   "execution_count": 5,
   "metadata": {},
   "outputs": [
    {
     "name": "stdout",
     "output_type": "stream",
     "text": [
      "__________________________________________________________________________________________________\n",
      "Layer (type)                         Output Shape              Param #   Connected to             \n",
      "==================================================================================================\n",
      "input_1 (InputLayer)                 (None, 512, 512, 3)       0                                  \n",
      "__________________________________________________________________________________________________\n",
      "conv1 (Conv2D)                       (None, 512, 512, 16)      1216      input_1[0][0]            \n",
      "__________________________________________________________________________________________________\n",
      "reshape_1 (Reshape)                  (None, 512, 512, 1, 16)   0         conv1[0][0]              \n",
      "__________________________________________________________________________________________________\n",
      "primarycaps (ConvCapsuleLayer)       (None, 256, 256, 2, 16)   12832     reshape_1[0][0]          \n",
      "__________________________________________________________________________________________________\n",
      "conv_cap_2_1 (ConvCapsuleLayer)      (None, 256, 256, 4, 16)   25664     primarycaps[0][0]        \n",
      "__________________________________________________________________________________________________\n",
      "conv_cap_2_2 (ConvCapsuleLayer)      (None, 128, 128, 4, 32)   51328     conv_cap_2_1[0][0]       \n",
      "__________________________________________________________________________________________________\n",
      "conv_cap_3_1 (ConvCapsuleLayer)      (None, 128, 128, 8, 32)   205056    conv_cap_2_2[0][0]       \n",
      "__________________________________________________________________________________________________\n",
      "conv_cap_3_2 (ConvCapsuleLayer)      (None, 64, 64, 8, 64)     410112    conv_cap_3_1[0][0]       \n",
      "__________________________________________________________________________________________________\n",
      "conv_cap_4_1 (ConvCapsuleLayer)      (None, 64, 64, 8, 32)     409856    conv_cap_3_2[0][0]       \n",
      "__________________________________________________________________________________________________\n",
      "deconv_cap_1_1 (DeconvCapsuleLayer)  (None, 128, 128, 8, 32)   131328    conv_cap_4_1[0][0]       \n",
      "__________________________________________________________________________________________________\n",
      "up_1 (Concatenate)                   (None, 128, 128, 16, 32)  0         deconv_cap_1_1[0][0]     \n",
      "                                                                         conv_cap_3_1[0][0]       \n",
      "__________________________________________________________________________________________________\n",
      "deconv_cap_1_2 (ConvCapsuleLayer)    (None, 128, 128, 4, 32)   102528    up_1[0][0]               \n",
      "__________________________________________________________________________________________________\n",
      "deconv_cap_2_1 (DeconvCapsuleLayer)  (None, 256, 256, 4, 16)   32832     deconv_cap_1_2[0][0]     \n",
      "__________________________________________________________________________________________________\n",
      "up_2 (Concatenate)                   (None, 256, 256, 8, 16)   0         deconv_cap_2_1[0][0]     \n",
      "                                                                         conv_cap_2_1[0][0]       \n",
      "__________________________________________________________________________________________________\n",
      "deconv_cap_2_2 (ConvCapsuleLayer)    (None, 256, 256, 4, 16)   25664     up_2[0][0]               \n",
      "__________________________________________________________________________________________________\n",
      "deconv_cap_3_1 (DeconvCapsuleLayer)  (None, 512, 512, 2, 16)   8224      deconv_cap_2_2[0][0]     \n",
      "__________________________________________________________________________________________________\n",
      "up_3 (Concatenate)                   (None, 512, 512, 3, 16)   0         deconv_cap_3_1[0][0]     \n",
      "                                                                         reshape_1[0][0]          \n",
      "__________________________________________________________________________________________________\n",
      "seg_caps (ConvCapsuleLayer)          (None, 512, 512, 1, 16)   272       up_3[0][0]               \n",
      "__________________________________________________________________________________________________\n",
      "out_seg (Length)                     (None, 512, 512, 1)       0         seg_caps[0][0]           \n",
      "==================================================================================================\n",
      "Total params: 1,416,912\n",
      "Trainable params: 1,416,912\n",
      "Non-trainable params: 0\n",
      "__________________________________________________________________________________________________\n"
     ]
    }
   ],
   "source": [
    "wmodel = capsnet()\n",
    "print_summary(model=wmodel, positions=[.38, .65, .75, 1.])\n",
    "\n",
    "\n"
   ]
  },
  {
   "cell_type": "code",
   "execution_count": 4,
   "metadata": {},
   "outputs": [],
   "source": [
    "from os.path import join\n",
    "import numpy as np\n",
    "\n",
    "from keras.optimizers import Adam\n",
    "from keras.utils.training_utils import multi_gpu_model\n",
    "from keras.callbacks import ModelCheckpoint, CSVLogger, EarlyStopping, ReduceLROnPlateau, TensorBoard\n",
    "\n",
    "from custom_losses import dice_hard\n",
    "\n",
    "opt = Adam(lr=0.0001, beta_1=0.99, beta_2=0.999, decay=1e-6)\n",
    "\n",
    "metrics = {'out_seg': dice_hard}\n",
    "\n"
   ]
  },
  {
   "cell_type": "code",
   "execution_count": 5,
   "metadata": {},
   "outputs": [],
   "source": [
    "from keras.losses import binary_crossentropy\n",
    "\n",
    "\n",
    "def dice_coeff(y_true, y_pred):\n",
    "    smooth = 1.\n",
    "    y_true_f = K.flatten(y_true)\n",
    "    y_pred_f = K.flatten(y_pred)\n",
    "    intersection = K.sum(y_true_f * y_pred_f)\n",
    "    score = (2. * intersection + smooth) / (K.sum(y_true_f) + K.sum(y_pred_f) + smooth)\n",
    "    return score\n",
    "\n",
    "\n",
    "def jaccard_coef(y_true, y_pred, smooth=0.0):\n",
    "    '''Average jaccard coefficient per batch.'''\n",
    "    axes = (1,2,3)\n",
    "    intersection = K.sum(y_true * y_pred, axis=axes)\n",
    "    union = K.sum(y_true, axis=axes) + K.sum(y_pred, axis=axes) - intersection\n",
    "    return K.mean( (intersection + smooth) / (union + smooth), axis=0)\n",
    "\n",
    "\n",
    "def dice_loss(y_true, y_pred):\n",
    "    loss = 1 - dice_coeff(y_true, y_pred)\n",
    "    return loss\n",
    "\n",
    "\n",
    "def bce_dice_loss(y_true, y_pred):\n",
    "    loss = binary_crossentropy(y_true, y_pred)\n",
    "    return loss\n",
    "\n",
    "def unet_loss(y_true, y_pred):\n",
    "    loss = bce_dice_loss(y_true,y_pred) - K.log(jaccard_coef(y_true,y_pred))\n",
    "    return loss"
   ]
  },
  {
   "cell_type": "code",
   "execution_count": 8,
   "metadata": {},
   "outputs": [],
   "source": [
    "from keras.callbacks import EarlyStopping, ReduceLROnPlateau, ModelCheckpoint, TensorBoard,RemoteMonitor\n",
    "from sklearn.model_selection import train_test_split\n",
    "\n",
    "t_ori, v_ori , t_masks, v_masks = train_test_split(origi, masks, test_size=0.33, random_state=42)"
   ]
  },
  {
   "cell_type": "code",
   "execution_count": 9,
   "metadata": {},
   "outputs": [
    {
     "name": "stdout",
     "output_type": "stream",
     "text": [
      "(8062, 512, 512, 3)\n",
      "(3971, 512, 512, 3)\n",
      "(8062, 512, 512, 1)\n",
      "(3971, 512, 512, 1)\n"
     ]
    }
   ],
   "source": [
    "print(t_ori.shape)\n",
    "print(v_ori.shape)\n",
    "print(t_masks.shape)\n",
    "print(v_masks.shape)\n",
    "\n",
    "\n"
   ]
  },
  {
   "cell_type": "code",
   "execution_count": 10,
   "metadata": {},
   "outputs": [],
   "source": [
    "t_ori = t_ori[:32,:,:,:]\n",
    "v_ori = v_ori[:16,:,:,:]\n",
    "t_masks = t_masks[:32,:,:,:]\n",
    "v_masks = v_masks[:16,:,:,:]"
   ]
  },
  {
   "cell_type": "code",
   "execution_count": 10,
   "metadata": {},
   "outputs": [],
   "source": [
    "class VBatchGenerator:\n",
    "    \n",
    "    def __init__(self, size, n_cls, batch_size):\n",
    "        self.size = size\n",
    "        self.n_cls = n_cls\n",
    "        self.batch_size = batch_size\n",
    "        self.i = 0\n",
    "    \n",
    "    def get_batch(self):\n",
    "        global v_masks\n",
    "        global v_ori\n",
    "        while True:\n",
    "            origbatch = np.zeros((self.batch_size, self.size, self.size, 3))\n",
    "            gtbatch = np.zeros((self.batch_size, self.size, self.size, 1))\n",
    "            perm = np.arange(num_val)\n",
    "            np.random.shuffle(perm)\n",
    "            somev_masks = [v_masks[j] for j in perm]\n",
    "            somev_ori = [v_ori[j] for j in perm]\n",
    "            for i in range(self.batch_size):\n",
    "                origbatch[i] = somev_ori[i]\n",
    "                gtbatch[i] = somev_masks[i]\n",
    "            yield origbatch, gtbatch"
   ]
  },
  {
   "cell_type": "code",
   "execution_count": 11,
   "metadata": {},
   "outputs": [],
   "source": [
    "class BatchGenerator:\n",
    "    \n",
    "    def __init__(self, size, n_cls, batch_size):\n",
    "        self.size = size\n",
    "        self.n_cls = n_cls\n",
    "        self.batch_size = batch_size\n",
    "        self.i = 0\n",
    "    \n",
    "    def get_batch(self):\n",
    "        global t_ori\n",
    "        global t_masks\n",
    "        while True:\n",
    "            orig_btch = np.zeros((self.batch_size, self.size, self.size, 3))\n",
    "            gt_btch = np.zeros((self.batch_size, self.size, self.size, 1))\n",
    "            perm = np.arange(num_examples)\n",
    "            np.random.shuffle(perm)\n",
    "            some_masks = [t_masks[j] for j in perm]\n",
    "            some_ori = [t_ori[j] for j in perm]\n",
    "            for i in range(self.batch_size):\n",
    "                orig_btch[i] = some_ori[i]\n",
    "                gt_btch[i] = some_masks[i]\n",
    "            yield orig_btch, gt_btch"
   ]
  },
  {
   "cell_type": "code",
   "execution_count": 12,
   "metadata": {},
   "outputs": [],
   "source": [
    "recon_wei= 131.072\n",
    "\n",
    "loss = {'out_seg': 'binary_crossentropy'}\n",
    "loss_weighting = {'out_seg': 1.}\n",
    "metrics = {'out_seg': dice_hard}\n",
    "from time import time\n",
    "num_examples = t_ori.shape[0]\n",
    "num_val = v_ori.shape[0]\n",
    "batch_size = 8\n",
    "\n",
    "s_tr =np.floor(float(t_ori.shape[0]) / float(batch_size))\n",
    "s_val =np.floor(float(v_ori.shape[0]) / float(batch_size))\n",
    "train_batch_generator = BatchGenerator( image_size, 1, batch_size)\n",
    "valid_batch_generator = VBatchGenerator(image_size, 1,batch_size)\n",
    "\n",
    "with tf.device(\"/cpu:0\"):\n",
    "    wmodel.compile(optimizer=opt, loss=loss, loss_weights=loss_weighting, metrics=metrics)\n",
    "    model = multi_gpu_model(wmodel, gpus=8)\n",
    "    model.__setattr__('callback_model', wmodel)\n",
    "model.compile(optimizer=opt, loss=loss, loss_weights=loss_weighting, metrics=metrics)"
   ]
  },
  {
   "cell_type": "code",
   "execution_count": 16,
   "metadata": {},
   "outputs": [],
   "source": [
    "recon_wei= 131.072\n",
    "\n",
    "loss = {'out_seg': 'binary_crossentropy'}\n",
    "loss_weighting = {'out_seg': 1.}\n",
    "metrics = {'out_seg': dice_hard}\n",
    "from time import time\n",
    "num_examples = t_ori.shape[0]\n",
    "num_val = v_ori.shape[0]\n",
    "batch_size = 1\n",
    "\n",
    "s_tr =np.floor(float(t_ori.shape[0]) / float(batch_size))\n",
    "s_val =np.floor(float(v_ori.shape[0]) / float(batch_size))\n",
    "train_batch_generator = BatchGenerator( image_size, 1, batch_size)\n",
    "valid_batch_generator = VBatchGenerator(image_size, 1,batch_size)\n",
    "\n",
    "\n",
    "wmodel.compile(optimizer=opt, loss=loss, loss_weights=loss_weighting, metrics=metrics)\n"
   ]
  },
  {
   "cell_type": "code",
   "execution_count": 13,
   "metadata": {},
   "outputs": [
    {
     "name": "stdout",
     "output_type": "stream",
     "text": [
      "__________________________________________________________________________________________________\n",
      "Layer (type)                    Output Shape         Param #     Connected to                     \n",
      "==================================================================================================\n",
      "input_1 (InputLayer)            (None, 512, 512, 3)  0                                            \n",
      "__________________________________________________________________________________________________\n",
      "lambda_1 (Lambda)               (None, 512, 512, 3)  0           input_1[0][0]                    \n",
      "__________________________________________________________________________________________________\n",
      "lambda_2 (Lambda)               (None, 512, 512, 3)  0           input_1[0][0]                    \n",
      "__________________________________________________________________________________________________\n",
      "lambda_3 (Lambda)               (None, 512, 512, 3)  0           input_1[0][0]                    \n",
      "__________________________________________________________________________________________________\n",
      "lambda_4 (Lambda)               (None, 512, 512, 3)  0           input_1[0][0]                    \n",
      "__________________________________________________________________________________________________\n",
      "lambda_5 (Lambda)               (None, 512, 512, 3)  0           input_1[0][0]                    \n",
      "__________________________________________________________________________________________________\n",
      "lambda_6 (Lambda)               (None, 512, 512, 3)  0           input_1[0][0]                    \n",
      "__________________________________________________________________________________________________\n",
      "lambda_7 (Lambda)               (None, 512, 512, 3)  0           input_1[0][0]                    \n",
      "__________________________________________________________________________________________________\n",
      "lambda_8 (Lambda)               (None, 512, 512, 3)  0           input_1[0][0]                    \n",
      "__________________________________________________________________________________________________\n",
      "model_1 (Model)                 (None, 512, 512, 1)  1416912     lambda_1[0][0]                   \n",
      "                                                                 lambda_2[0][0]                   \n",
      "                                                                 lambda_3[0][0]                   \n",
      "                                                                 lambda_4[0][0]                   \n",
      "                                                                 lambda_5[0][0]                   \n",
      "                                                                 lambda_6[0][0]                   \n",
      "                                                                 lambda_7[0][0]                   \n",
      "                                                                 lambda_8[0][0]                   \n",
      "__________________________________________________________________________________________________\n",
      "out_seg (Concatenate)           (None, 512, 512, 1)  0           model_1[1][0]                    \n",
      "                                                                 model_1[2][0]                    \n",
      "                                                                 model_1[3][0]                    \n",
      "                                                                 model_1[4][0]                    \n",
      "                                                                 model_1[5][0]                    \n",
      "                                                                 model_1[6][0]                    \n",
      "                                                                 model_1[7][0]                    \n",
      "                                                                 model_1[8][0]                    \n",
      "==================================================================================================\n",
      "Total params: 1,416,912\n",
      "Trainable params: 1,416,912\n",
      "Non-trainable params: 0\n",
      "__________________________________________________________________________________________________\n"
     ]
    }
   ],
   "source": [
    "model.summary()"
   ]
  },
  {
   "cell_type": "code",
   "execution_count": 14,
   "metadata": {
    "scrolled": true
   },
   "outputs": [
    {
     "name": "stdout",
     "output_type": "stream",
     "text": [
      "Epoch 1/20\n",
      "1007/1007 [==============================] - 4322s 4s/step - loss: 0.8235 - dice_hard: 0.6899 - val_loss: 0.3612 - val_dice_hard: 0.8325\n"
     ]
    },
    {
     "name": "stderr",
     "output_type": "stream",
     "text": [
      "/usr/local/lib/python3.5/dist-packages/keras/callbacks.py:588: UserWarning: Warning: could not reach RemoteMonitor root server at http://localhost:9000\n",
      "  'root server at ' + str(self.root))\n"
     ]
    },
    {
     "name": "stdout",
     "output_type": "stream",
     "text": [
      "Epoch 2/20\n",
      "1007/1007 [==============================] - 4295s 4s/step - loss: 0.2755 - dice_hard: 0.8790 - val_loss: 0.2217 - val_dice_hard: 0.9065\n",
      "Epoch 3/20\n",
      "1007/1007 [==============================] - 4305s 4s/step - loss: 0.1713 - dice_hard: 0.9275 - val_loss: 0.1413 - val_dice_hard: 0.9390\n",
      "Epoch 4/20\n",
      "1007/1007 [==============================] - 4306s 4s/step - loss: 0.1161 - dice_hard: 0.9458 - val_loss: 0.0867 - val_dice_hard: 0.9574\n",
      "Epoch 5/20\n",
      "1007/1007 [==============================] - 4314s 4s/step - loss: 0.0742 - dice_hard: 0.9616 - val_loss: 0.0517 - val_dice_hard: 0.9752\n",
      "Epoch 6/20\n",
      "1007/1007 [==============================] - 4310s 4s/step - loss: 0.0571 - dice_hard: 0.9696 - val_loss: 0.0441 - val_dice_hard: 0.9768\n",
      "Epoch 7/20\n",
      "1007/1007 [==============================] - 4312s 4s/step - loss: 0.0420 - dice_hard: 0.9771 - val_loss: 0.0346 - val_dice_hard: 0.9824\n",
      "Epoch 8/20\n",
      "1007/1007 [==============================] - 4314s 4s/step - loss: 0.0372 - dice_hard: 0.9800 - val_loss: 0.0351 - val_dice_hard: 0.9808\n",
      "Epoch 9/20\n",
      "1007/1007 [==============================] - 4316s 4s/step - loss: 0.0349 - dice_hard: 0.9807 - val_loss: 0.0285 - val_dice_hard: 0.9850\n",
      "Epoch 10/20\n",
      "1007/1007 [==============================] - 4317s 4s/step - loss: 0.0332 - dice_hard: 0.9824 - val_loss: 0.0298 - val_dice_hard: 0.9845\n",
      "Epoch 11/20\n",
      "1007/1007 [==============================] - 4314s 4s/step - loss: 0.0297 - dice_hard: 0.9823 - val_loss: 0.0288 - val_dice_hard: 0.9840\n",
      "Epoch 12/20\n",
      "1007/1007 [==============================] - 4312s 4s/step - loss: 0.0264 - dice_hard: 0.9853 - val_loss: 0.0238 - val_dice_hard: 0.9865\n",
      "Epoch 13/20\n",
      "1007/1007 [==============================] - 4318s 4s/step - loss: 0.0242 - dice_hard: 0.9859 - val_loss: 0.0270 - val_dice_hard: 0.9843\n",
      "Epoch 14/20\n",
      "1007/1007 [==============================] - 4309s 4s/step - loss: 0.0285 - dice_hard: 0.9834 - val_loss: 0.0231 - val_dice_hard: 0.9872\n",
      "Epoch 15/20\n",
      "1007/1007 [==============================] - 4317s 4s/step - loss: 0.0240 - dice_hard: 0.9859 - val_loss: 0.0235 - val_dice_hard: 0.9871\n",
      "Epoch 16/20\n",
      "1007/1007 [==============================] - 4316s 4s/step - loss: 0.0209 - dice_hard: 0.9880 - val_loss: 0.0217 - val_dice_hard: 0.9873\n",
      "Epoch 17/20\n",
      "1007/1007 [==============================] - 4315s 4s/step - loss: 0.0218 - dice_hard: 0.9874 - val_loss: 0.0221 - val_dice_hard: 0.9875\n",
      "Epoch 18/20\n",
      "1007/1007 [==============================] - 4313s 4s/step - loss: 0.0231 - dice_hard: 0.9865 - val_loss: 0.0252 - val_dice_hard: 0.9855\n",
      "Epoch 19/20\n",
      "1007/1007 [==============================] - 4316s 4s/step - loss: 0.0204 - dice_hard: 0.9878 - val_loss: 0.0212 - val_dice_hard: 0.9872\n",
      "Epoch 20/20\n",
      "1007/1007 [==============================] - 4322s 4s/step - loss: 0.0217 - dice_hard: 0.9870 - val_loss: 0.0225 - val_dice_hard: 0.9872\n"
     ]
    },
    {
     "data": {
      "text/plain": [
       "<keras.callbacks.History at 0x7f70245814a8>"
      ]
     },
     "execution_count": 14,
     "metadata": {},
     "output_type": "execute_result"
    }
   ],
   "source": [
    "tensorboard = TensorBoard(log_dir=\"segcaps/\", batch_size=8,write_graph=True)\n",
    "callbacks = [EarlyStopping(monitor='val_loss',\n",
    "                           patience=8,\n",
    "                           verbose=1,\n",
    "                           min_delta=1e-4),\n",
    "             ReduceLROnPlateau(monitor='val_loss',\n",
    "                               factor=0.1,\n",
    "                               patience=4,\n",
    "                               verbose=1,\n",
    "                               epsilon=1e-4),\n",
    "             RemoteMonitor(root='http://localhost:9000', path='/publish/epoch/end/', field='data', headers=None),\n",
    "             tensorboard]\n",
    "\n",
    "model.fit_generator(train_batch_generator.get_batch(),max_queue_size=40, use_multiprocessing=False,\n",
    "                    steps_per_epoch=s_tr,epochs=20, callbacks=callbacks, validation_data=valid_batch_generator.get_batch(),validation_steps=s_val,verbose=1)"
   ]
  },
  {
   "cell_type": "code",
   "execution_count": 16,
   "metadata": {},
   "outputs": [
    {
     "name": "stderr",
     "output_type": "stream",
     "text": [
      "Using TensorFlow backend.\n"
     ]
    }
   ],
   "source": [
    "from importlib import reload\n",
    "reload(K)\n",
    "import h5py\n",
    "model1 = model.get_layer('model_1')\n",
    "\n",
    "model1.save('segcaps_final.h5')"
   ]
  },
  {
   "cell_type": "code",
   "execution_count": 22,
   "metadata": {},
   "outputs": [
    {
     "ename": "NameError",
     "evalue": "name 'k' is not defined",
     "output_type": "error",
     "traceback": [
      "\u001b[0;31m---------------------------------------------------------------------------\u001b[0m",
      "\u001b[0;31mNameError\u001b[0m                                 Traceback (most recent call last)",
      "\u001b[0;32m<ipython-input-22-399d33c6552f>\u001b[0m in \u001b[0;36m<module>\u001b[0;34m()\u001b[0m\n\u001b[1;32m      1\u001b[0m \u001b[0;32mimport\u001b[0m \u001b[0mkeras\u001b[0m\u001b[0;34m\u001b[0m\u001b[0m\n\u001b[0;32m----> 2\u001b[0;31m \u001b[0mprint\u001b[0m\u001b[0;34m(\u001b[0m\u001b[0mk\u001b[0m\u001b[0;34m.\u001b[0m\u001b[0m__version__\u001b[0m\u001b[0;34m)\u001b[0m\u001b[0;34m\u001b[0m\u001b[0m\n\u001b[0m",
      "\u001b[0;31mNameError\u001b[0m: name 'k' is not defined"
     ]
    }
   ],
   "source": [
    "import keras\n",
    "print(k.__version__)"
   ]
  },
  {
   "cell_type": "code",
   "execution_count": 67,
   "metadata": {},
   "outputs": [
    {
     "ename": "IndexError",
     "evalue": "list index out of range",
     "output_type": "error",
     "traceback": [
      "\u001b[0;31m---------------------------------------------------------------------------\u001b[0m",
      "\u001b[0;31mIndexError\u001b[0m                                Traceback (most recent call last)",
      "\u001b[0;32m<ipython-input-67-6b07c1310d8b>\u001b[0m in \u001b[0;36m<module>\u001b[0;34m()\u001b[0m\n\u001b[1;32m      1\u001b[0m \u001b[0mtrain_batch_generator\u001b[0m \u001b[0;34m=\u001b[0m \u001b[0mBatchGenerator\u001b[0m\u001b[0;34m(\u001b[0m \u001b[0mimage_size\u001b[0m\u001b[0;34m,\u001b[0m \u001b[0;36m1\u001b[0m\u001b[0;34m,\u001b[0m \u001b[0;36m4\u001b[0m\u001b[0;34m)\u001b[0m\u001b[0;34m\u001b[0m\u001b[0m\n\u001b[1;32m      2\u001b[0m \u001b[0;34m\u001b[0m\u001b[0m\n\u001b[0;32m----> 3\u001b[0;31m \u001b[0ma\u001b[0m\u001b[0;34m,\u001b[0m\u001b[0mb\u001b[0m\u001b[0;34m=\u001b[0m \u001b[0mtrain_batch_generator\u001b[0m\u001b[0;34m.\u001b[0m\u001b[0mget_batch\u001b[0m\u001b[0;34m(\u001b[0m\u001b[0;34m)\u001b[0m\u001b[0;34m\u001b[0m\u001b[0m\n\u001b[0m",
      "\u001b[0;32m<ipython-input-59-6a5d9f860906>\u001b[0m in \u001b[0;36mget_batch\u001b[0;34m(self)\u001b[0m\n\u001b[1;32m     18\u001b[0m             \u001b[0msome_ori\u001b[0m \u001b[0;34m=\u001b[0m \u001b[0;34m[\u001b[0m\u001b[0mt_ori\u001b[0m\u001b[0;34m[\u001b[0m\u001b[0mj\u001b[0m\u001b[0;34m]\u001b[0m \u001b[0;32mfor\u001b[0m \u001b[0mj\u001b[0m \u001b[0;32min\u001b[0m \u001b[0mperm\u001b[0m\u001b[0;34m]\u001b[0m\u001b[0;34m\u001b[0m\u001b[0m\n\u001b[1;32m     19\u001b[0m             \u001b[0;32mfor\u001b[0m \u001b[0mi\u001b[0m \u001b[0;32min\u001b[0m \u001b[0mrange\u001b[0m\u001b[0;34m(\u001b[0m\u001b[0mself\u001b[0m\u001b[0;34m.\u001b[0m\u001b[0mbatch_size\u001b[0m\u001b[0;34m)\u001b[0m\u001b[0;34m:\u001b[0m\u001b[0;34m\u001b[0m\u001b[0m\n\u001b[0;32m---> 20\u001b[0;31m                 \u001b[0morig_btch\u001b[0m\u001b[0;34m[\u001b[0m\u001b[0mi\u001b[0m\u001b[0;34m]\u001b[0m \u001b[0;34m=\u001b[0m \u001b[0msome_ori\u001b[0m\u001b[0;34m[\u001b[0m\u001b[0mi\u001b[0m\u001b[0;34m]\u001b[0m\u001b[0;34m\u001b[0m\u001b[0m\n\u001b[0m\u001b[1;32m     21\u001b[0m                 \u001b[0mgt_btch\u001b[0m\u001b[0;34m[\u001b[0m\u001b[0mi\u001b[0m\u001b[0;34m]\u001b[0m \u001b[0;34m=\u001b[0m \u001b[0msome_masks\u001b[0m\u001b[0;34m[\u001b[0m\u001b[0mi\u001b[0m\u001b[0;34m]\u001b[0m\u001b[0;34m\u001b[0m\u001b[0m\n\u001b[1;32m     22\u001b[0m             \u001b[0;32myield\u001b[0m \u001b[0morig_btch\u001b[0m\u001b[0;34m,\u001b[0m \u001b[0mgt_btch\u001b[0m\u001b[0;34m\u001b[0m\u001b[0m\n",
      "\u001b[0;31mIndexError\u001b[0m: list index out of range"
     ]
    }
   ],
   "source": [
    "train_batch_generator = BatchGenerator( image_size, 1, 4)\n",
    "\n",
    "a,b= train_batch_generator.get_batch()"
   ]
  },
  {
   "cell_type": "code",
   "execution_count": 1,
   "metadata": {},
   "outputs": [
    {
     "ename": "NameError",
     "evalue": "name 'cv2' is not defined",
     "output_type": "error",
     "traceback": [
      "\u001b[0;31m---------------------------------------------------------------------------\u001b[0m",
      "\u001b[0;31mNameError\u001b[0m                                 Traceback (most recent call last)",
      "\u001b[0;32m<ipython-input-1-78bf3597dffd>\u001b[0m in \u001b[0;36m<module>\u001b[0;34m()\u001b[0m\n\u001b[0;32m----> 1\u001b[0;31m \u001b[0morig_images\u001b[0m\u001b[0;34m=\u001b[0m \u001b[0mcv2\u001b[0m\u001b[0;34m.\u001b[0m\u001b[0mimread\u001b[0m\u001b[0;34m(\u001b[0m\u001b[0;34m\"/home/ubuntu/research/train/btrain/4117.png\"\u001b[0m\u001b[0;34m)\u001b[0m\u001b[0;34m\u001b[0m\u001b[0m\n\u001b[0m\u001b[1;32m      2\u001b[0m \u001b[0morig_images\u001b[0m \u001b[0;34m=\u001b[0m \u001b[0mcv2\u001b[0m\u001b[0;34m.\u001b[0m\u001b[0mresize\u001b[0m\u001b[0;34m(\u001b[0m\u001b[0morig_images\u001b[0m\u001b[0;34m,\u001b[0m \u001b[0;34m(\u001b[0m\u001b[0;36m512\u001b[0m\u001b[0;34m,\u001b[0m \u001b[0;36m512\u001b[0m\u001b[0;34m)\u001b[0m\u001b[0;34m)\u001b[0m\u001b[0;34m\u001b[0m\u001b[0m\n\u001b[1;32m      3\u001b[0m \u001b[0mimage\u001b[0m \u001b[0;34m=\u001b[0m \u001b[0mnp\u001b[0m\u001b[0;34m.\u001b[0m\u001b[0mexpand_dims\u001b[0m\u001b[0;34m(\u001b[0m\u001b[0morig_images\u001b[0m\u001b[0;34m,\u001b[0m \u001b[0maxis\u001b[0m\u001b[0;34m=\u001b[0m\u001b[0;36m0\u001b[0m\u001b[0;34m)\u001b[0m\u001b[0;34m\u001b[0m\u001b[0m\n\u001b[1;32m      4\u001b[0m \u001b[0mmpo\u001b[0m \u001b[0;34m=\u001b[0m \u001b[0mmo\u001b[0m\u001b[0;34m.\u001b[0m\u001b[0mpredict\u001b[0m\u001b[0;34m(\u001b[0m\u001b[0mimage\u001b[0m\u001b[0;34m)\u001b[0m\u001b[0;34m\u001b[0m\u001b[0m\n",
      "\u001b[0;31mNameError\u001b[0m: name 'cv2' is not defined"
     ]
    }
   ],
   "source": [
    "orig_images= cv2.imread(\"/home/ubuntu/research/train/btrain/4117.png\")\n",
    "orig_images = cv2.resize(orig_images, (512, 512))\n",
    "image = np.expand_dims(orig_images, axis=0)\n",
    "mpo = mo.predict(image)"
   ]
  },
  {
   "cell_type": "code",
   "execution_count": 8,
   "metadata": {},
   "outputs": [
    {
     "data": {
      "text/plain": [
       "(1, 512, 512, 1)"
      ]
     },
     "execution_count": 8,
     "metadata": {},
     "output_type": "execute_result"
    }
   ],
   "source": [
    "mpo.shape"
   ]
  },
  {
   "cell_type": "code",
   "execution_count": 9,
   "metadata": {},
   "outputs": [
    {
     "data": {
      "text/plain": [
       "<matplotlib.image.AxesImage at 0x7fc070631710>"
      ]
     },
     "execution_count": 9,
     "metadata": {},
     "output_type": "execute_result"
    },
    {
     "data": {
      "image/png": "[encoded data removed]",
      "text/plain": [
       "<matplotlib.figure.Figure at 0x7fc088158c88>"
      ]
     },
     "metadata": {},
     "output_type": "display_data"
    }
   ],
   "source": [
    "plt.imshow(np.resize(mpo,(512,512)))"
   ]
  },
  {
   "cell_type": "code",
   "execution_count": 6,
   "metadata": {},
   "outputs": [],
   "source": [
    "from keras.models import load_model\n",
    "from custom_losses import dice_hard\n",
    "mo = load_model('segcaps_final.h5',custom_objects={'ConvCapsuleLayer':ConvCapsuleLayer,'DeconvCapsuleLayer':DeconvCapsuleLayer,'Length':Length,'Mask':Mask,'dice_hard':dice_hard})"
   ]
  },
  {
   "cell_type": "code",
   "execution_count": null,
   "metadata": {},
   "outputs": [],
   "source": []
  }
 ],
 "metadata": {
  "kernelspec": {
   "display_name": "Python 3",
   "language": "python",
   "name": "python3"
  },
  "language_info": {
   "codemirror_mode": {
    "name": "ipython",
    "version": 3
   },
   "file_extension": ".py",
   "mimetype": "text/x-python",
   "name": "python",
   "nbconvert_exporter": "python",
   "pygments_lexer": "ipython3",
   "version": "3.5.2"
  }
 },
 "nbformat": 4,
 "nbformat_minor": 2
}
