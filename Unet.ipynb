{
 "cells": [
  {
   "cell_type": "code",
   "execution_count": 3,
   "metadata": {},
   "outputs": [
    {
     "name": "stderr",
     "output_type": "stream",
     "text": [
      "/usr/local/lib/python3.5/dist-packages/h5py/__init__.py:36: FutureWarning: Conversion of the second argument of issubdtype from `float` to `np.floating` is deprecated. In future, it will be treated as `np.float64 == np.dtype(float).type`.\n",
      "  from ._conv import register_converters as _register_converters\n",
      "Using TensorFlow backend.\n"
     ]
    },
    {
     "name": "stdout",
     "output_type": "stream",
     "text": [
      "channels_last\n"
     ]
    }
   ],
   "source": [
    "import matplotlib.pyplot as plt\n",
    "%matplotlib inline\n",
    "import numpy as np\n",
    "import cv2\n",
    "from os.path import join\n",
    "import os\n",
    "import random\n",
    "from functools import partial\n",
    "from keras.models import Model, load_model\n",
    "from keras.layers import Input, Conv2D, MaxPooling2D, UpSampling2D, Reshape, concatenate\n",
    "from keras.optimizers import Nadam\n",
    "from keras.layers.advanced_activations import ELU\n",
    "from keras.layers.normalization import BatchNormalization\n",
    "from keras import backend as K\n",
    "from keras.backend import binary_crossentropy\n",
    "\n",
    "import tensorflow as tf\n",
    "\n",
    "K.clear_session()\n",
    "K.set_image_dim_ordering('tf')\n",
    "\n",
    "print(K.image_data_format())\n",
    "smooth = 1e-12\n",
    "num_examples = 0"
   ]
  },
  {
   "cell_type": "code",
   "execution_count": 29,
   "metadata": {},
   "outputs": [
    {
     "name": "stdout",
     "output_type": "stream",
     "text": [
      "Loading masks\n",
      "loading original\n"
     ]
    }
   ],
   "source": [
    "import glob\n",
    "image_size = 512\n",
    "def load_files():\n",
    "    global image_size\n",
    "    global num_examples\n",
    "    mask_images=[]\n",
    "    ori_images = []\n",
    "\n",
    "    mask_path = \"unet_train/gt/*\"\n",
    "    masks = glob.glob(mask_path)\n",
    "    print(\"Loading masks\")\n",
    "    for fl in masks:\n",
    "        train_image = cv2.imread(fl)\n",
    "        shape = train_image.shape\n",
    "        #Supervisely gives 3 images in out and we need the mask only\n",
    "        start = shape[1]//3\n",
    "        start = start * 2\n",
    "        end = shape[1]\n",
    "        train_image = train_image[: , start:end]\n",
    "        train_image = cv2.resize(train_image, (image_size, image_size))\n",
    "        mask_images.append(train_image)\n",
    "    orig_path = \"unet_train/orig/*\"\n",
    "    orig = glob.glob(orig_path)\n",
    "    print(\"loading original\")\n",
    "    for fl in orig:\n",
    "        orig_images = cv2.imread(fl)\n",
    "        orig_images = cv2.resize(orig_images, (image_size, image_size))\n",
    "        ori_images.append(orig_images)\n",
    "    masked = np.array(mask_images)\n",
    "    origi = np.array(ori_images)\n",
    "    num_examples = masked.shape[0]\n",
    "    return masked, origi\n",
    "\n",
    "masks, origi = load_files()\n"
   ]
  },
  {
   "cell_type": "code",
   "execution_count": 34,
   "metadata": {},
   "outputs": [],
   "source": [
    "def get_unet(size, n_cls):\n",
    "    inputs = Input((size, size, 3))\n",
    "    conv1 = BatchNormalization()(inputs)\n",
    "    conv1 = Conv2D(32, (3, 3), padding='same')(conv1)\n",
    "    conv1 = BatchNormalization()(conv1)\n",
    "    conv1 = ELU()(conv1)\n",
    "    conv1 = Conv2D(32, (3, 3), padding='same')(conv1)\n",
    "    conv1 = BatchNormalization()(conv1)\n",
    "    conv1 = ELU()(conv1)\n",
    "    pool1 = MaxPooling2D(pool_size=(2, 2))(conv1)\n",
    "\n",
    "    conv2 = Conv2D(64, (3, 3), padding='same')(pool1)\n",
    "    conv2 = BatchNormalization()(conv2)\n",
    "    conv2 = ELU()(conv2)\n",
    "    conv2 = Conv2D(64, (3, 3), padding='same')(conv2)\n",
    "    conv2 = BatchNormalization()(conv2)\n",
    "    conv2 = ELU()(conv2)\n",
    "    pool2 = MaxPooling2D(pool_size=(2, 2))(conv2)\n",
    "\n",
    "    conv3 = Conv2D(128, (3, 3), padding='same')(pool2)\n",
    "    conv3 = BatchNormalization()(conv3)\n",
    "    conv3 = ELU()(conv3)\n",
    "    conv3 = Conv2D(128, (3, 3), padding='same')(conv3)\n",
    "    conv3 = BatchNormalization()(conv3)\n",
    "    conv3 = ELU()(conv3)\n",
    "    pool3 = MaxPooling2D(pool_size=(2, 2))(conv3)\n",
    "\n",
    "    conv4 = Conv2D(256, (3, 3), padding='same')(pool3)\n",
    "    conv4 = BatchNormalization()(conv4)\n",
    "    conv4 = ELU()(conv4)\n",
    "    conv4 = Conv2D(256, (3, 3), padding='same')(conv4)\n",
    "    conv4 = BatchNormalization()(conv4)\n",
    "    conv4 = ELU()(conv4)\n",
    "    \n",
    "    pool4 = MaxPooling2D(pool_size=(2, 2))(conv4)\n",
    "\n",
    "    conv5 = Conv2D(512, (3, 3), padding='same')(pool4)\n",
    "    conv5 = BatchNormalization()(conv5)\n",
    "    conv5 = ELU()(conv5)\n",
    "    conv5 = Conv2D(512, (3, 3), padding='same')(conv5)\n",
    "    conv5 = BatchNormalization()(conv5)\n",
    "    conv5 = ELU()(conv5)\n",
    "\n",
    "    up6 = concatenate([UpSampling2D(size=(2, 2))(conv5), conv4], axis=3)\n",
    "    conv6 = Conv2D(256, (3, 3), padding='same')(up6)\n",
    "    conv6 = BatchNormalization()(conv6)\n",
    "    conv6 = ELU()(conv6)\n",
    "    conv6 = Conv2D(256, (3, 3), padding='same')(conv6)\n",
    "    conv6 = BatchNormalization()(conv6)\n",
    "    conv6 = ELU()(conv6)\n",
    "\n",
    "    up7 = concatenate([UpSampling2D(size=(2, 2))(conv6), conv3], axis=3)\n",
    "    conv7 = Conv2D(128, (3, 3), padding='same')(up7)\n",
    "    conv7 = BatchNormalization()(conv7)\n",
    "    conv7 = ELU()(conv7)\n",
    "    conv7 = Conv2D(128, (3, 3), padding='same')(conv7)\n",
    "    conv7 = BatchNormalization()(conv7)\n",
    "    conv7 = ELU()(conv7)\n",
    "\n",
    "    up8 = concatenate([UpSampling2D(size=(2, 2))(conv7), conv2], axis=3)\n",
    "    conv8 = Conv2D(64, (3, 3), padding='same')(up8)\n",
    "    conv8 = BatchNormalization()(conv8)\n",
    "    conv8 = ELU()(conv8)\n",
    "    conv8 = Conv2D(64, (3, 3), padding='same')(conv8)\n",
    "    conv8 = BatchNormalization()(conv8)\n",
    "    conv8 = ELU()(conv8)\n",
    "\n",
    "    up9 = concatenate([UpSampling2D(size=(2, 2))(conv8), conv1], axis=3)\n",
    "    conv9 = Conv2D(32, (3, 3), padding='same')(up9)\n",
    "    conv9 = BatchNormalization()(conv9)\n",
    "    conv9 = ELU()(conv9)\n",
    "    conv9 = Conv2D(32, (3, 3), padding='same')(conv9)\n",
    "    conv9 = BatchNormalization()(conv9)\n",
    "    conv9 = ELU()(conv9)\n",
    "\n",
    "    conv10 = Conv2D(3, (1, 1), activation='sigmoid')(conv9)\n",
    "\n",
    "    model = Model(inputs=inputs, outputs=conv10)\n",
    "    return model"
   ]
  },
  {
   "cell_type": "code",
   "execution_count": 31,
   "metadata": {},
   "outputs": [],
   "source": [
    "\n",
    "def jaccard_coef(y_true, y_pred):\n",
    "    intersection = K.sum(y_true * y_pred, axis=[0, -1, -2])\n",
    "    sum_ = K.sum(y_true + y_pred, axis=[0, -1, -2])\n",
    "\n",
    "    jac = (intersection + smooth) / (sum_ - intersection + smooth)\n",
    "\n",
    "    return K.mean(jac)\n",
    "\n",
    "\n",
    "def jaccard_coef_int(y_true, y_pred):\n",
    "    y_pred_pos = K.round(K.clip(y_pred, 0, 1))\n",
    "\n",
    "    intersection = K.sum(y_true * y_pred_pos, axis=[0, -1, -2])\n",
    "    sum_ = K.sum(y_true + y_pred_pos, axis=[0, -1, -2])\n",
    "\n",
    "    jac = (intersection + smooth) / (sum_ - intersection + smooth)\n",
    "\n",
    "    return K.mean(jac)\n",
    "\n",
    "\n",
    "def jaccard_coef_loss(y_true, y_pred):\n",
    "    return -K.log(jaccard_coef(y_true, y_pred)) + binary_crossentropy(y_pred, y_true)\n",
    "\n"
   ]
  },
  {
   "cell_type": "code",
   "execution_count": 36,
   "metadata": {},
   "outputs": [],
   "source": [
    "class BatchGenerator:\n",
    "    \n",
    "    def __init__(self, size, n_cls, batch_size):\n",
    "        self.size = size\n",
    "        self.n_cls = n_cls\n",
    "        self.batch_size = batch_size\n",
    "        self.i = 0\n",
    "    \n",
    "    def get_batch(self):\n",
    "        global masks\n",
    "        global origi\n",
    "        while True:\n",
    "            orig_batch = np.zeros((self.batch_size, self.size, self.size, 3))\n",
    "            gt_batch = np.zeros((self.batch_size, self.size, self.size, 3))\n",
    "            perm = np.arange(num_examples)\n",
    "            np.random.shuffle(perm)\n",
    "            masks = [masks[j] for j in perm]\n",
    "            origi = [origi[j] for j in perm]\n",
    "            for i in range(self.batch_size):\n",
    "                orig_batch[i] = origi[i]\n",
    "                gt_batch[i] = masks[i]\n",
    "            yield orig_batch, gt_batch"
   ]
  },
  {
   "cell_type": "code",
   "execution_count": 37,
   "metadata": {},
   "outputs": [
    {
     "name": "stdout",
     "output_type": "stream",
     "text": [
      "Epoch 1/20\n"
     ]
    },
    {
     "ename": "ValueError",
     "evalue": "could not broadcast input array from shape (512,512) into shape (512,512,1)",
     "output_type": "error",
     "traceback": [
      "\u001b[0;31m---------------------------------------------------------------------------\u001b[0m",
      "\u001b[0;31mValueError\u001b[0m                                Traceback (most recent call last)",
      "\u001b[0;32m<ipython-input-37-9fd862af9d8b>\u001b[0m in \u001b[0;36m<module>\u001b[0;34m()\u001b[0m\n\u001b[1;32m      9\u001b[0m \u001b[0mtensorboard\u001b[0m \u001b[0;34m=\u001b[0m \u001b[0mTensorBoard\u001b[0m\u001b[0;34m(\u001b[0m\u001b[0mlog_dir\u001b[0m\u001b[0;34m=\u001b[0m\u001b[0;34m\"logs/\"\u001b[0m\u001b[0;34m,\u001b[0m \u001b[0mbatch_size\u001b[0m\u001b[0;34m=\u001b[0m\u001b[0;36m4\u001b[0m\u001b[0;34m,\u001b[0m\u001b[0mwrite_graph\u001b[0m\u001b[0;34m=\u001b[0m\u001b[0;32mTrue\u001b[0m\u001b[0;34m)\u001b[0m\u001b[0;34m\u001b[0m\u001b[0m\n\u001b[1;32m     10\u001b[0m \u001b[0;34m\u001b[0m\u001b[0m\n\u001b[0;32m---> 11\u001b[0;31m \u001b[0mmodel\u001b[0m\u001b[0;34m.\u001b[0m\u001b[0mfit_generator\u001b[0m\u001b[0;34m(\u001b[0m\u001b[0mtrain_batch_generator\u001b[0m\u001b[0;34m.\u001b[0m\u001b[0mget_batch\u001b[0m\u001b[0;34m(\u001b[0m\u001b[0;34m)\u001b[0m\u001b[0;34m,\u001b[0m\u001b[0msteps_per_epoch\u001b[0m\u001b[0;34m=\u001b[0m\u001b[0mnum_examples\u001b[0m\u001b[0;34m,\u001b[0m\u001b[0mepochs\u001b[0m\u001b[0;34m=\u001b[0m\u001b[0;36m20\u001b[0m\u001b[0;34m,\u001b[0m \u001b[0mcallbacks\u001b[0m\u001b[0;34m=\u001b[0m\u001b[0;34m[\u001b[0m\u001b[0mtensorboard\u001b[0m\u001b[0;34m]\u001b[0m\u001b[0;34m)\u001b[0m\u001b[0;34m\u001b[0m\u001b[0m\n\u001b[0m",
      "\u001b[0;32m/usr/local/lib/python3.5/dist-packages/keras/legacy/interfaces.py\u001b[0m in \u001b[0;36mwrapper\u001b[0;34m(*args, **kwargs)\u001b[0m\n\u001b[1;32m     89\u001b[0m                 warnings.warn('Update your `' + object_name +\n\u001b[1;32m     90\u001b[0m                               '` call to the Keras 2 API: ' + signature, stacklevel=2)\n\u001b[0;32m---> 91\u001b[0;31m             \u001b[0;32mreturn\u001b[0m \u001b[0mfunc\u001b[0m\u001b[0;34m(\u001b[0m\u001b[0;34m*\u001b[0m\u001b[0margs\u001b[0m\u001b[0;34m,\u001b[0m \u001b[0;34m**\u001b[0m\u001b[0mkwargs\u001b[0m\u001b[0;34m)\u001b[0m\u001b[0;34m\u001b[0m\u001b[0m\n\u001b[0m\u001b[1;32m     92\u001b[0m         \u001b[0mwrapper\u001b[0m\u001b[0;34m.\u001b[0m\u001b[0m_original_function\u001b[0m \u001b[0;34m=\u001b[0m \u001b[0mfunc\u001b[0m\u001b[0;34m\u001b[0m\u001b[0m\n\u001b[1;32m     93\u001b[0m         \u001b[0;32mreturn\u001b[0m \u001b[0mwrapper\u001b[0m\u001b[0;34m\u001b[0m\u001b[0m\n",
      "\u001b[0;32m/usr/local/lib/python3.5/dist-packages/keras/engine/training.py\u001b[0m in \u001b[0;36mfit_generator\u001b[0;34m(self, generator, steps_per_epoch, epochs, verbose, callbacks, validation_data, validation_steps, class_weight, max_queue_size, workers, use_multiprocessing, shuffle, initial_epoch)\u001b[0m\n\u001b[1;32m   2210\u001b[0m                 \u001b[0mbatch_index\u001b[0m \u001b[0;34m=\u001b[0m \u001b[0;36m0\u001b[0m\u001b[0;34m\u001b[0m\u001b[0m\n\u001b[1;32m   2211\u001b[0m                 \u001b[0;32mwhile\u001b[0m \u001b[0msteps_done\u001b[0m \u001b[0;34m<\u001b[0m \u001b[0msteps_per_epoch\u001b[0m\u001b[0;34m:\u001b[0m\u001b[0;34m\u001b[0m\u001b[0m\n\u001b[0;32m-> 2212\u001b[0;31m                     \u001b[0mgenerator_output\u001b[0m \u001b[0;34m=\u001b[0m \u001b[0mnext\u001b[0m\u001b[0;34m(\u001b[0m\u001b[0moutput_generator\u001b[0m\u001b[0;34m)\u001b[0m\u001b[0;34m\u001b[0m\u001b[0m\n\u001b[0m\u001b[1;32m   2213\u001b[0m \u001b[0;34m\u001b[0m\u001b[0m\n\u001b[1;32m   2214\u001b[0m                     \u001b[0;32mif\u001b[0m \u001b[0;32mnot\u001b[0m \u001b[0mhasattr\u001b[0m\u001b[0;34m(\u001b[0m\u001b[0mgenerator_output\u001b[0m\u001b[0;34m,\u001b[0m \u001b[0;34m'__len__'\u001b[0m\u001b[0;34m)\u001b[0m\u001b[0;34m:\u001b[0m\u001b[0;34m\u001b[0m\u001b[0m\n",
      "\u001b[0;32m/usr/local/lib/python3.5/dist-packages/keras/utils/data_utils.py\u001b[0m in \u001b[0;36mget\u001b[0;34m(self)\u001b[0m\n\u001b[1;32m    777\u001b[0m             \u001b[0msuccess\u001b[0m\u001b[0;34m,\u001b[0m \u001b[0mvalue\u001b[0m \u001b[0;34m=\u001b[0m \u001b[0mself\u001b[0m\u001b[0;34m.\u001b[0m\u001b[0mqueue\u001b[0m\u001b[0;34m.\u001b[0m\u001b[0mget\u001b[0m\u001b[0;34m(\u001b[0m\u001b[0;34m)\u001b[0m\u001b[0;34m\u001b[0m\u001b[0m\n\u001b[1;32m    778\u001b[0m             \u001b[0;32mif\u001b[0m \u001b[0;32mnot\u001b[0m \u001b[0msuccess\u001b[0m\u001b[0;34m:\u001b[0m\u001b[0;34m\u001b[0m\u001b[0m\n\u001b[0;32m--> 779\u001b[0;31m                 \u001b[0msix\u001b[0m\u001b[0;34m.\u001b[0m\u001b[0mreraise\u001b[0m\u001b[0;34m(\u001b[0m\u001b[0mvalue\u001b[0m\u001b[0;34m.\u001b[0m\u001b[0m__class__\u001b[0m\u001b[0;34m,\u001b[0m \u001b[0mvalue\u001b[0m\u001b[0;34m,\u001b[0m \u001b[0mvalue\u001b[0m\u001b[0;34m.\u001b[0m\u001b[0m__traceback__\u001b[0m\u001b[0;34m)\u001b[0m\u001b[0;34m\u001b[0m\u001b[0m\n\u001b[0m",
      "\u001b[0;32m~/.local/lib/python3.5/site-packages/six.py\u001b[0m in \u001b[0;36mreraise\u001b[0;34m(tp, value, tb)\u001b[0m\n\u001b[1;32m    691\u001b[0m             \u001b[0;32mif\u001b[0m \u001b[0mvalue\u001b[0m\u001b[0;34m.\u001b[0m\u001b[0m__traceback__\u001b[0m \u001b[0;32mis\u001b[0m \u001b[0;32mnot\u001b[0m \u001b[0mtb\u001b[0m\u001b[0;34m:\u001b[0m\u001b[0;34m\u001b[0m\u001b[0m\n\u001b[1;32m    692\u001b[0m                 \u001b[0;32mraise\u001b[0m \u001b[0mvalue\u001b[0m\u001b[0;34m.\u001b[0m\u001b[0mwith_traceback\u001b[0m\u001b[0;34m(\u001b[0m\u001b[0mtb\u001b[0m\u001b[0;34m)\u001b[0m\u001b[0;34m\u001b[0m\u001b[0m\n\u001b[0;32m--> 693\u001b[0;31m             \u001b[0;32mraise\u001b[0m \u001b[0mvalue\u001b[0m\u001b[0;34m\u001b[0m\u001b[0m\n\u001b[0m\u001b[1;32m    694\u001b[0m         \u001b[0;32mfinally\u001b[0m\u001b[0;34m:\u001b[0m\u001b[0;34m\u001b[0m\u001b[0m\n\u001b[1;32m    695\u001b[0m             \u001b[0mvalue\u001b[0m \u001b[0;34m=\u001b[0m \u001b[0;32mNone\u001b[0m\u001b[0;34m\u001b[0m\u001b[0m\n",
      "\u001b[0;32m/usr/local/lib/python3.5/dist-packages/keras/utils/data_utils.py\u001b[0m in \u001b[0;36m_data_generator_task\u001b[0;34m(self)\u001b[0m\n\u001b[1;32m    642\u001b[0m                             \u001b[0;31m# => Serialize calls to\u001b[0m\u001b[0;34m\u001b[0m\u001b[0;34m\u001b[0m\u001b[0m\n\u001b[1;32m    643\u001b[0m                             \u001b[0;31m# infinite iterator/generator's next() function\u001b[0m\u001b[0;34m\u001b[0m\u001b[0;34m\u001b[0m\u001b[0m\n\u001b[0;32m--> 644\u001b[0;31m                             \u001b[0mgenerator_output\u001b[0m \u001b[0;34m=\u001b[0m \u001b[0mnext\u001b[0m\u001b[0;34m(\u001b[0m\u001b[0mself\u001b[0m\u001b[0;34m.\u001b[0m\u001b[0m_generator\u001b[0m\u001b[0;34m)\u001b[0m\u001b[0;34m\u001b[0m\u001b[0m\n\u001b[0m\u001b[1;32m    645\u001b[0m                             \u001b[0mself\u001b[0m\u001b[0;34m.\u001b[0m\u001b[0mqueue\u001b[0m\u001b[0;34m.\u001b[0m\u001b[0mput\u001b[0m\u001b[0;34m(\u001b[0m\u001b[0;34m(\u001b[0m\u001b[0;32mTrue\u001b[0m\u001b[0;34m,\u001b[0m \u001b[0mgenerator_output\u001b[0m\u001b[0;34m)\u001b[0m\u001b[0;34m)\u001b[0m\u001b[0;34m\u001b[0m\u001b[0m\n\u001b[1;32m    646\u001b[0m                         \u001b[0;32melse\u001b[0m\u001b[0;34m:\u001b[0m\u001b[0;34m\u001b[0m\u001b[0m\n",
      "\u001b[0;32m<ipython-input-36-0fd4af64fe75>\u001b[0m in \u001b[0;36mget_batch\u001b[0;34m(self)\u001b[0m\n\u001b[1;32m     19\u001b[0m             \u001b[0;32mfor\u001b[0m \u001b[0mi\u001b[0m \u001b[0;32min\u001b[0m \u001b[0mrange\u001b[0m\u001b[0;34m(\u001b[0m\u001b[0mself\u001b[0m\u001b[0;34m.\u001b[0m\u001b[0mbatch_size\u001b[0m\u001b[0;34m)\u001b[0m\u001b[0;34m:\u001b[0m\u001b[0;34m\u001b[0m\u001b[0m\n\u001b[1;32m     20\u001b[0m                 \u001b[0morig_batch\u001b[0m\u001b[0;34m[\u001b[0m\u001b[0mi\u001b[0m\u001b[0;34m]\u001b[0m \u001b[0;34m=\u001b[0m \u001b[0morigi\u001b[0m\u001b[0;34m[\u001b[0m\u001b[0mi\u001b[0m\u001b[0;34m]\u001b[0m\u001b[0;34m\u001b[0m\u001b[0m\n\u001b[0;32m---> 21\u001b[0;31m                 \u001b[0mgt_batch\u001b[0m\u001b[0;34m[\u001b[0m\u001b[0mi\u001b[0m\u001b[0;34m]\u001b[0m \u001b[0;34m=\u001b[0m \u001b[0mmasks\u001b[0m\u001b[0;34m[\u001b[0m\u001b[0mi\u001b[0m\u001b[0;34m]\u001b[0m\u001b[0;34m\u001b[0m\u001b[0m\n\u001b[0m\u001b[1;32m     22\u001b[0m             \u001b[0;32myield\u001b[0m \u001b[0morig_batch\u001b[0m\u001b[0;34m,\u001b[0m \u001b[0mgt_batch\u001b[0m\u001b[0;34m\u001b[0m\u001b[0m\n",
      "\u001b[0;31mValueError\u001b[0m: could not broadcast input array from shape (512,512) into shape (512,512,1)"
     ]
    }
   ],
   "source": [
    "from keras.callbacks import TensorBoard\n",
    "from time import time\n",
    "\n",
    "train_batch_generator = BatchGenerator( image_size, 1, 1)\n",
    "size = image_size\n",
    "n_cls = 1\n",
    "model = get_unet(size, n_cls)\n",
    "model.compile(optimizer=Nadam(lr=1e-3), loss=jaccard_coef_loss, metrics=['binary_crossentropy', jaccard_coef_int])\n",
    "tensorboard = TensorBoard(log_dir=\"logs/\", batch_size=4,write_graph=True)\n",
    "\n",
    "model.fit_generator(train_batch_generator.get_batch(),steps_per_epoch=num_examples,epochs=20, callbacks=[tensorboard])"
   ]
  },
  {
   "cell_type": "code",
   "execution_count": null,
   "metadata": {},
   "outputs": [],
   "source": [
    "from importlib import reload\n",
    "reload(K)\n",
    "import h5py\n",
    "model.save('modeltr.h5')"
   ]
  },
  {
   "cell_type": "code",
   "execution_count": 8,
   "metadata": {},
   "outputs": [],
   "source": [
    "train_image = cv2.imread(\"train/btrain/1615.png\")\n",
    "shape = train_image.shape\n",
    "train_image = cv2.resize(train_image, (512, 512))\n"
   ]
  },
  {
   "cell_type": "code",
   "execution_count": 9,
   "metadata": {
    "scrolled": true
   },
   "outputs": [
    {
     "data": {
      "image/png": "[encoded data removed]",
      "text/plain": [
       "<matplotlib.figure.Figure at 0x7f003265d5f8>"
      ]
     },
     "metadata": {},
     "output_type": "display_data"
    }
   ],
   "source": [
    "plt.imshow(train_image)\n",
    "plt.show()"
   ]
  },
  {
   "cell_type": "code",
   "execution_count": 10,
   "metadata": {},
   "outputs": [
    {
     "data": {
      "text/plain": [
       "(512, 512, 3)"
      ]
     },
     "execution_count": 10,
     "metadata": {},
     "output_type": "execute_result"
    }
   ],
   "source": [
    "train_pic = np.array(train_image)\n",
    "train_pic.shape"
   ]
  },
  {
   "cell_type": "code",
   "execution_count": 11,
   "metadata": {},
   "outputs": [],
   "source": [
    "image = np.expand_dims(train_pic, axis=0)"
   ]
  },
  {
   "cell_type": "code",
   "execution_count": 12,
   "metadata": {},
   "outputs": [
    {
     "data": {
      "text/plain": [
       "(1, 512, 512, 3)"
      ]
     },
     "execution_count": 12,
     "metadata": {},
     "output_type": "execute_result"
    }
   ],
   "source": [
    "image.shape"
   ]
  },
  {
   "cell_type": "code",
   "execution_count": 13,
   "metadata": {},
   "outputs": [
    {
     "data": {
      "text/plain": [
       "(1, 512, 512, 3)"
      ]
     },
     "execution_count": 13,
     "metadata": {},
     "output_type": "execute_result"
    }
   ],
   "source": [
    "mpo=model.predict(image)\n",
    "#print(mpo)\n",
    "mpo.shape"
   ]
  },
  {
   "cell_type": "code",
   "execution_count": 14,
   "metadata": {},
   "outputs": [],
   "source": [
    "mpo = mpo.reshape(512,512,3)"
   ]
  },
  {
   "cell_type": "code",
   "execution_count": 15,
   "metadata": {},
   "outputs": [
    {
     "data": {
      "text/plain": [
       "(512, 512, 3)"
      ]
     },
     "execution_count": 15,
     "metadata": {},
     "output_type": "execute_result"
    }
   ],
   "source": [
    "mpo.shape"
   ]
  },
  {
   "cell_type": "code",
   "execution_count": 17,
   "metadata": {
    "scrolled": true
   },
   "outputs": [
    {
     "data": {
      "image/png": "[encoded data removed]",
      "text/plain": [
       "<matplotlib.figure.Figure at 0x7fec0feab8d0>"
      ]
     },
     "metadata": {},
     "output_type": "display_data"
    }
   ],
   "source": [
    "plt.axis('off')\n",
    "plt.imshow(mpo)\n",
    "#plt.savefig('output.png')re\n",
    "plt.show()"
   ]
  },
  {
   "cell_type": "code",
   "execution_count": null,
   "metadata": {},
   "outputs": [],
   "source": [
    "hsv = cv2.cvtColor(mpo, cv2.COLOR_BGR2HSV)\n",
    "# define range of blue color in HSV\n",
    "lower_blue = np.array([110,50,50])\n",
    "upper_blue = np.array([130,255,255])\n",
    "    # Threshold the HSV image to get only blue colors\n",
    "mask = cv2.inRange(hsv, lower_blue, upper_blue)\n",
    "    # Bitwise-AND mask and original image\n",
    "res = cv2.bitwise_and(frame,frame, mask= mask)\n",
    "    cv2.imshow('frame',frame)\n",
    "    cv2.imshow('mask',mask)\n",
    "    cv2.imshow('res',res)"
   ]
  },
  {
   "cell_type": "code",
   "execution_count": null,
   "metadata": {},
   "outputs": [],
   "source": [
    "train_image = cv2.imread('1901.jpg')\n",
    "shape = train_image.shape\n",
    "#Supervisely gives 3 images in out and we need the mask onl\n",
    "start = shape[1]//3\n",
    "end = 2 * start\n",
    "train_image = train_image[: , start:end]\n",
    "train_image = cv2.resize(train_image, (image_size, image_size))\n",
    "print(len(train_image.shape))"
   ]
  },
  {
   "cell_type": "code",
   "execution_count": null,
   "metadata": {},
   "outputs": [],
   "source": [
    "train_image.shape"
   ]
  },
  {
   "cell_type": "code",
   "execution_count": null,
   "metadata": {
    "scrolled": false
   },
   "outputs": [],
   "source": [
    "train_image = cv2.imread(\"1903.jpg\")\n",
    "shape = train_image.shape\n",
    "train_image = cv2.resize(train_image, (image_size, image_size))\n",
    "plt.axis('off')\n",
    "plt.imshow(train_image)\n",
    "plt.savefig('input.png')\n",
    "plt.show()"
   ]
  },
  {
   "cell_type": "code",
   "execution_count": null,
   "metadata": {},
   "outputs": [],
   "source": [
    "\n",
    "model = load_model('modeltr.h5', custom_objects={'jaccard_coef_int': jaccard_coef_int,'jaccard_coef_loss': jaccard_coef_loss})\n",
    "\n"
   ]
  },
  {
   "cell_type": "code",
   "execution_count": null,
   "metadata": {},
   "outputs": [],
   "source": [
    "image_size =512\n",
    "train_image = cv2.imread('testing/1384.png')\n",
    "shape = train_image.shape\n",
    "train_image = cv2.resize(train_image, (image_size, image_size))\n",
    "train_pic = np.array(train_image)\n",
    "image = np.expand_dims(train_pic, axis=0)"
   ]
  },
  {
   "cell_type": "code",
   "execution_count": null,
   "metadata": {},
   "outputs": [],
   "source": [
    "image.shape\n"
   ]
  },
  {
   "cell_type": "code",
   "execution_count": null,
   "metadata": {},
   "outputs": [],
   "source": [
    "g = model.predict(image)"
   ]
  },
  {
   "cell_type": "code",
   "execution_count": null,
   "metadata": {},
   "outputs": [],
   "source": [
    "g.shape"
   ]
  },
  {
   "cell_type": "code",
   "execution_count": null,
   "metadata": {},
   "outputs": [],
   "source": [
    "g = g.reshape(512,512,3)"
   ]
  },
  {
   "cell_type": "code",
   "execution_count": null,
   "metadata": {},
   "outputs": [],
   "source": [
    "g.shape"
   ]
  },
  {
   "cell_type": "code",
   "execution_count": null,
   "metadata": {},
   "outputs": [],
   "source": [
    "plt.imshow(g)"
   ]
  },
  {
   "cell_type": "code",
   "execution_count": null,
   "metadata": {},
   "outputs": [],
   "source": [
    "def mask_overlay(image, mask, color=(0, 255, 0)):\n",
    "    \"\"\"\n",
    "    Helper function to visualize mask on the top of the car\n",
    "    \"\"\"\n",
    "    mask = np.dstack((mask, mask, mask)) * np.array(color)\n",
    "    mask = mask.astype(np.uint8)\n",
    "    return cv2.addWeighted(mask, 0.5, image, 0.5, 0.)"
   ]
  },
  {
   "cell_type": "code",
   "execution_count": null,
   "metadata": {},
   "outputs": [],
   "source": [
    "import cv2\n",
    "img= cv2.imread('train/boneage-training-dataset/1903.png')\n",
    "img = cv2.resize(img, (512, 512))\n",
    "image = np.expand_dims(img, axis=0)\n",
    "g = model.predict(image)\n"
   ]
  },
  {
   "cell_type": "code",
   "execution_count": null,
   "metadata": {},
   "outputs": [],
   "source": [
    "g.shape"
   ]
  },
  {
   "cell_type": "code",
   "execution_count": null,
   "metadata": {},
   "outputs": [],
   "source": [
    "g.reshape(512,512,3)"
   ]
  },
  {
   "cell_type": "code",
   "execution_count": null,
   "metadata": {},
   "outputs": [],
   "source": [
    "g.shape"
   ]
  },
  {
   "cell_type": "code",
   "execution_count": null,
   "metadata": {},
   "outputs": [],
   "source": [
    "g.shape\n",
    "largestCC = g == np.argmax(np.bincount(g.flat))"
   ]
  },
  {
   "cell_type": "code",
   "execution_count": null,
   "metadata": {},
   "outputs": [],
   "source": [
    "plt.imshow(mask_overlay(img, (g > 0.5).astype(np.uint8)))"
   ]
  },
  {
   "cell_type": "code",
   "execution_count": null,
   "metadata": {},
   "outputs": [],
   "source": [
    "plt.imshow(g)"
   ]
  },
  {
   "cell_type": "code",
   "execution_count": null,
   "metadata": {},
   "outputs": [],
   "source": [
    "image = g.astype('uint')"
   ]
  },
  {
   "cell_type": "code",
   "execution_count": null,
   "metadata": {},
   "outputs": [],
   "source": [
    "def undesired_objects (image):\n",
    "    image = image.astype('uint8')\n",
    "    nb_components, output, stats, centroids = cv2.connectedComponentsWithStats(image, connectivity=4)\n",
    "    sizes = stats[:, -1]\n",
    "\n",
    "    max_label = 1\n",
    "    max_size = sizes[1]\n",
    "    for i in range(2, nb_components):\n",
    "        if sizes[i] > max_size:\n",
    "            max_label = i\n",
    "            max_size = sizes[i]\n",
    "\n",
    "    img2 = np.zeros(output.shape)\n",
    "    img2[output == max_label] = 255\n",
    "    cv2.imshow(\"Biggest component\", img2)\n",
    "    cv2.waitKey()"
   ]
  },
  {
   "cell_type": "code",
   "execution_count": null,
   "metadata": {},
   "outputs": [],
   "source": [
    "from skimage.measure import label   \n",
    "\n",
    "def getLargestCC(segmentation):\n",
    "    labels = label(segmentation)\n",
    "    largestCC = labels == np.argmax(np.bincount(labels.flat))\n",
    "    return largestCC\n",
    "a = getLargestCC(mpo)"
   ]
  },
  {
   "cell_type": "code",
   "execution_count": null,
   "metadata": {},
   "outputs": [],
   "source": [
    "a=1-a\n",
    "plt.imshow(a.astype(np.float32))"
   ]
  },
  {
   "cell_type": "code",
   "execution_count": null,
   "metadata": {},
   "outputs": [],
   "source": [
    "g =g.reshape(512,512,3)"
   ]
  },
  {
   "cell_type": "code",
   "execution_count": null,
   "metadata": {},
   "outputs": [],
   "source": [
    "g.dtype\n",
    "a =np.finfo(np.float32).min"
   ]
  },
  {
   "cell_type": "code",
   "execution_count": null,
   "metadata": {},
   "outputs": [],
   "source": [
    "g.dtype"
   ]
  },
  {
   "cell_type": "code",
   "execution_count": null,
   "metadata": {},
   "outputs": [],
   "source": []
  },
  {
   "cell_type": "code",
   "execution_count": null,
   "metadata": {},
   "outputs": [],
   "source": [
    "\n",
    "ball_ycrcb_mint = np.array([0, 90, 100],np.uint8)\n",
    "ball_ycrcb_maxt = np.array([25, 255, 255],np.uint8)\n",
    "ball_ycrcb = cv2.inRange(gray_image, ball_ycrcb_mint, ball_ycrcb_maxt)\n",
    "#cv2.imwrite('Photos/output2.jpg', ball_ycrcb) # Second image\n",
    "areaArray = []\n",
    "count = 1\n",
    "\n",
    "contours, _ = cv2.findContours(ball_ycrcb, cv2.RETR_EXTERNAL, cv2.CHAIN_APPROX_SIMPLE)\n",
    "for i, c in enumerate(contours):\n",
    "    area = cv2.contourArea(c)\n",
    "    areaArray.append(area)\n",
    "\n",
    "#first sort the array by area\n",
    "sorteddata = sorted(zip(areaArray, contours), key=lambda x: x[0], reverse=True)\n",
    "\n",
    "#find the nth largest contour [n-1][1], in this case 2\n",
    "secondlargestcontour = sorteddata[1][1]\n",
    "\n",
    "#draw it\n",
    "x, y, w, h = cv2.boundingRect(secondlargestcontour)\n",
    "cv2.drawContours(im, secondlargestcontour, -1, (255, 0, 0), 2)\n",
    "cv2.rectangle(im, (x, y), (x+w, y+h), (0,255,0), 2)\n",
    "cv2.imwrite('Photos/output3.jpg', im)"
   ]
  },
  {
   "cell_type": "code",
   "execution_count": null,
   "metadata": {},
   "outputs": [],
   "source": [
    "plt.imshow(gray_image)"
   ]
  },
  {
   "cell_type": "code",
   "execution_count": null,
   "metadata": {},
   "outputs": [],
   "source": [
    "ret, thresh = cv2.threshold(gray_image, 127, 255, 0)\n",
    "im2, contours, hierarchy = cv2.findContours(thresh, cv2.RETR_TREE, cv2.CHAIN_APPROX_SIMPLE)\n",
    "cv2.drawContours(img, contours, -1, (0,255,0), 3)\n"
   ]
  },
  {
   "cell_type": "code",
   "execution_count": null,
   "metadata": {},
   "outputs": [],
   "source": [
    "a = cv2.imread('1903.png')\n",
    "arr = np.uint8(image)\n"
   ]
  },
  {
   "cell_type": "code",
   "execution_count": null,
   "metadata": {},
   "outputs": [],
   "source": [
    "arr.shape"
   ]
  },
  {
   "cell_type": "code",
   "execution_count": null,
   "metadata": {},
   "outputs": [],
   "source": [
    "train_image = cv2.resize(a, (image_size, image_size))\n",
    "train_image = np.expand_dims(train_image, axis=0)\n",
    "dk=model.predict(train_image)"
   ]
  },
  {
   "cell_type": "code",
   "execution_count": null,
   "metadata": {},
   "outputs": [],
   "source": [
    "a= np.uint8(dk*255)\n",
    "a= a.reshape(512,512,3)"
   ]
  },
  {
   "cell_type": "code",
   "execution_count": null,
   "metadata": {},
   "outputs": [],
   "source": [
    "plt.imshow(a)\n",
    "gray = cv2.cvtColor(a, cv2.COLOR_BGR2GRAY)"
   ]
  },
  {
   "cell_type": "code",
   "execution_count": null,
   "metadata": {},
   "outputs": [],
   "source": [
    "#cleaning the image\n",
    "p = cv2.imread('train/boneage-training-dataset/1384.png')\n",
    "train_image = cv2.resize(p, (image_size, image_size))\n",
    "train_image = np.expand_dims(train_image, axis=0)\n",
    "dk=model.predict(train_image)\n",
    "a= np.uint8(dk*255)\n",
    "a= a.reshape(512,512,3)\n",
    "gray = cv2.cvtColor(a, cv2.COLOR_BGR2GRAY)\n",
    "mask = np.ones((512,512), dtype=\"uint8\") * 255\n",
    "\n",
    "_, contours, _ = cv2.findContours(gray, cv2.RETR_EXTERNAL, cv2.CHAIN_APPROX_SIMPLE)\n",
    "for i, c in enumerate(contours):\n",
    "    area = cv2.contourArea(c)\n",
    "    if area < 90000:\n",
    "        cv2.drawContours(mask, [c], -1, 0, -1)\n",
    "\n",
    "image = cv2.bitwise_and(a, a, mask=mask)    \n",
    "plt.imshow(image)\n"
   ]
  },
  {
   "cell_type": "code",
   "execution_count": null,
   "metadata": {},
   "outputs": [],
   "source": [
    "ball_ycrcb_mint = np.array([0, 90, 100],np.uint8)\n",
    "ball_ycrcb_maxt = np.array([25, 255, 255],np.uint8)\n",
    "ball_ycrcb = cv2.inRange(im_ycrcb, ball_ycrcb_mint, ball_ycrcb_maxt)\n",
    "#cv2.imwrite('Photos/output2.jpg', ball_ycrcb) # Second image\n",
    "areaArray = []\n",
    "count = 1\n",
    "\n",
    "contours, _ = cv2.findContours(ball_ycrcb, cv2.RETR_EXTERNAL, cv2.CHAIN_APPROX_SIMPLE)\n",
    "for i, c in enumerate(contours):\n",
    "    area = cv2.contourArea(c)\n",
    "    areaArray.append(area)\n",
    "\n",
    "#first sort the array by area\n",
    "sorteddata = sorted(zip(areaArray, contours), key=lambda x: x[0], reverse=True)\n",
    "\n",
    "#find the nth largest contour [n-1][1], in this case 2\n",
    "secondlargestcontour = sorteddata[1][1]\n",
    "\n",
    "#draw it\n",
    "x, y, w, h = cv2.boundingRect(secondlargestcontour)\n",
    "cv2.drawContours(im, secondlargestcontour, -1, (255, 0, 0), 2)\n",
    "cv2.rectangle(im, (x, y), (x+w, y+h), (0,255,0), 2)"
   ]
  },
  {
   "cell_type": "code",
   "execution_count": null,
   "metadata": {},
   "outputs": [],
   "source": [
    "new_img = np.zeros_like(arr)                                        # step 1\n",
    "for val in np.unique(arr)[1:]:                                      # step 2\n",
    "    mask = np.uint8(img == val)                                     # step 3\n",
    "    labels, stats = cv2.connectedComponentsWithStats(mask, 4)[1:3]  # step 4\n",
    "    largest_label = 1 + np.argmax(stats[1:, cv2.CC_STAT_AREA])      # step 5\n",
    "    new_img[labels == largest_label] = val\n"
   ]
  },
  {
   "cell_type": "code",
   "execution_count": null,
   "metadata": {},
   "outputs": [],
   "source": [
    "plt.imshow(image)\n",
    "plt.show()\n",
    "plt.imshow(p)\n",
    "plt.show()"
   ]
  },
  {
   "cell_type": "code",
   "execution_count": null,
   "metadata": {},
   "outputs": [],
   "source": [
    "d = model.predict(train_image)"
   ]
  },
  {
   "cell_type": "code",
   "execution_count": null,
   "metadata": {},
   "outputs": [],
   "source": [
    "fig=plt.figure(figsize=(50, 50))\n",
    "columns = 2\n",
    "rows = 1\n",
    "img = p\n",
    "fig.add_subplot(rows, columns, 1)\n",
    "plt.imshow(img)\n",
    "plt.savefig('mamos.png')\n",
    "fig.add_subplot(rows, columns, 2)\n",
    "plt.imshow(a)\n",
    "plt.title('image_test',fontsize=26)\n",
    "plt.show()"
   ]
  },
  {
   "cell_type": "code",
   "execution_count": null,
   "metadata": {},
   "outputs": [],
   "source": [
    "!ls    "
   ]
  },
  {
   "cell_type": "code",
   "execution_count": 23,
   "metadata": {},
   "outputs": [
    {
     "name": "stdout",
     "output_type": "stream",
     "text": [
      "(2044, 1516)\n"
     ]
    }
   ],
   "source": [
    "train_image = cv2.imread('1901.jpg',cv2.IMREAD_GRAYSCALE)\n",
    "shape = train_image.shape\n",
    "        #Supervisely gives 3 images in out and we need the mask only\n",
    "start = shape[1]//3\n",
    "start = start * 2\n",
    "end = shape[1]\n",
    "train_image = train_image[: , start:end]\n",
    "print(train_image.shape)"
   ]
  },
  {
   "cell_type": "code",
   "execution_count": 22,
   "metadata": {},
   "outputs": [],
   "source": [
    "gray=cv2.cvtColor(train_image,cv2.COLOR_BGR2GRAY)\n",
    "\n",
    "(thresh, im_bw) = cv2.threshold(gray, 128, 255, cv2.THRESH_BINARY | cv2.THRESH_OTSU)\n"
   ]
  },
  {
   "cell_type": "code",
   "execution_count": 24,
   "metadata": {},
   "outputs": [
    {
     "data": {
      "image/png": "[encoded data removed]",
      "text/plain": [
       "<matplotlib.figure.Figure at 0x7feba8511b38>"
      ]
     },
     "metadata": {},
     "output_type": "display_data"
    }
   ],
   "source": [
    "plt.imshow(train_image)\n",
    "plt.show()"
   ]
  },
  {
   "cell_type": "code",
   "execution_count": 27,
   "metadata": {},
   "outputs": [
    {
     "data": {
      "text/plain": [
       "array([[  0, 255,   0, ...,   0,   0,   0],\n",
       "       [  0, 255,   0, ...,   0,   0,   0],\n",
       "       [  0, 255,   0, ...,   0,   0,   0],\n",
       "       ...,\n",
       "       [  0, 255,   0, ...,   0,   0,   0],\n",
       "       [  0, 255,   0, ...,   0,   0,   0],\n",
       "       [  0, 255,   0, ...,   0,   0,   0]], dtype=uint8)"
      ]
     },
     "execution_count": 27,
     "metadata": {},
     "output_type": "execute_result"
    }
   ],
   "source": [
    "im_bw"
   ]
  },
  {
   "cell_type": "code",
   "execution_count": 20,
   "metadata": {},
   "outputs": [
    {
     "data": {
      "text/plain": [
       "array([ 19, 150,  31, ...,  28,  28,  28], dtype=uint8)"
      ]
     },
     "execution_count": 20,
     "metadata": {},
     "output_type": "execute_result"
    }
   ],
   "source": [
    "gray[500]"
   ]
  },
  {
   "cell_type": "code",
   "execution_count": 20,
   "metadata": {},
   "outputs": [],
   "source": [
    "q = cv2.imread('1901.jpg')\n",
    "shape = q.shape\n",
    "        #Supervisely gives 3 images in out and we need the mask only\n",
    "start = shape[1]//3\n",
    "#start = start * 2\n",
    "end = start * 2\n",
    "train_image = q[: , start:end]\n",
    "im_gray = cv2.cvtColor(train_image, cv2.COLOR_BGR2GRAY)\n",
    "ret,thresh1 = cv2.threshold(im_gray,127,1,cv2.THRESH_BINARY)\n",
    "backtorgb = cv2.cvtColor(thresh1,cv2.COLOR_GRAY2BGR)"
   ]
  },
  {
   "cell_type": "code",
   "execution_count": 21,
   "metadata": {},
   "outputs": [
    {
     "data": {
      "text/plain": [
       "<matplotlib.image.AxesImage at 0x7feba84db048>"
      ]
     },
     "execution_count": 21,
     "metadata": {},
     "output_type": "execute_result"
    },
    {
     "data": {
      "image/png": "[encoded data removed]",
      "text/plain": [
       "<matplotlib.figure.Figure at 0x7feba850d240>"
      ]
     },
     "metadata": {},
     "output_type": "display_data"
    }
   ],
   "source": [
    "plt.imshow(backtorgb)"
   ]
  },
  {
   "cell_type": "code",
   "execution_count": 11,
   "metadata": {},
   "outputs": [
    {
     "data": {
      "text/plain": [
       "array([[[ 94, 188,  94],\n",
       "        [  0,  34,   0],\n",
       "        [  0,   6,   0],\n",
       "        ...,\n",
       "        [  0,   0,   0],\n",
       "        [  9,   0,   7],\n",
       "        [  0,   6,   0]],\n",
       "\n",
       "       [[ 94, 188,  94],\n",
       "        [  0,  34,   0],\n",
       "        [  0,   6,   0],\n",
       "        ...,\n",
       "        [  0,   0,   0],\n",
       "        [  9,   0,   7],\n",
       "        [  0,   6,   0]],\n",
       "\n",
       "       [[ 94, 188,  94],\n",
       "        [  0,  34,   0],\n",
       "        [  0,   6,   0],\n",
       "        ...,\n",
       "        [  0,   0,   0],\n",
       "        [  9,   0,   7],\n",
       "        [  0,   6,   0]],\n",
       "\n",
       "       ...,\n",
       "\n",
       "       [[ 96, 190,  96],\n",
       "        [  0,  33,   0],\n",
       "        [  0,   6,   0],\n",
       "        ...,\n",
       "        [  0,   0,   0],\n",
       "        [  9,   0,   7],\n",
       "        [  0,   6,   0]],\n",
       "\n",
       "       [[ 96, 190,  96],\n",
       "        [  0,  33,   0],\n",
       "        [  0,   6,   0],\n",
       "        ...,\n",
       "        [  0,   0,   0],\n",
       "        [  9,   0,   7],\n",
       "        [  0,   6,   0]],\n",
       "\n",
       "       [[ 96, 190,  96],\n",
       "        [  0,  33,   0],\n",
       "        [  0,   6,   0],\n",
       "        ...,\n",
       "        [  0,   0,   0],\n",
       "        [  9,   0,   7],\n",
       "        [  0,   6,   0]]], dtype=uint8)"
      ]
     },
     "execution_count": 11,
     "metadata": {},
     "output_type": "execute_result"
    }
   ],
   "source": [
    "train_image"
   ]
  },
  {
   "cell_type": "code",
   "execution_count": 12,
   "metadata": {},
   "outputs": [
    {
     "name": "stdout",
     "output_type": "stream",
     "text": [
      "[(0, 0, 0), (0, 0, 1), (0, 0, 3), (0, 0, 4), (0, 0, 5), (0, 0, 6), (0, 1, 0), (0, 1, 1), (0, 1, 2), (0, 1, 3), (0, 1, 4), (0, 1, 5), (0, 1, 6), (0, 1, 9), (0, 2, 0), (0, 2, 1), (0, 2, 2), (0, 2, 3), (0, 2, 5), (0, 2, 6), (0, 2, 7), (0, 3, 0), (0, 3, 1), (0, 3, 2), (0, 3, 3), (0, 3, 4), (0, 3, 5), (0, 3, 6), (0, 3, 7), (0, 3, 8), (0, 4, 0), (0, 4, 1), (0, 4, 2), (0, 4, 3), (0, 4, 4), (0, 4, 5), (0, 4, 7), (0, 5, 0), (0, 5, 1), (0, 5, 2), (0, 5, 3), (0, 5, 4), (0, 5, 5), (0, 5, 6), (0, 6, 0), (0, 6, 1), (0, 6, 2), (0, 6, 3), (0, 6, 5), (0, 7, 0), (0, 7, 1), (0, 7, 2), (0, 7, 3), (0, 7, 4), (0, 7, 5), (0, 8, 0), (0, 8, 1), (0, 8, 2), (0, 8, 3), (0, 8, 4), (0, 8, 6), (0, 9, 0), (0, 9, 1), (0, 9, 2), (0, 9, 3), (0, 10, 0), (0, 10, 1), (0, 10, 2), (0, 11, 0), (0, 11, 1), (0, 11, 2), (0, 12, 0), (0, 12, 2), (0, 13, 0), (0, 13, 1), (0, 13, 3), (0, 14, 0), (0, 15, 0), (0, 15, 1), (0, 16, 0), (0, 17, 0), (0, 18, 0), (0, 19, 0), (0, 20, 0), (0, 21, 0), (0, 22, 0), (0, 23, 0), (0, 24, 0), (0, 25, 0), (0, 26, 0), (0, 27, 0), (0, 28, 0), (0, 31, 0), (0, 33, 0), (0, 34, 0), (0, 35, 0), (1, 0, 2), (1, 0, 4), (1, 0, 5), (1, 1, 1), (1, 1, 7), (1, 2, 0), (1, 2, 6), (1, 3, 0), (1, 3, 3), (1, 3, 4), (1, 4, 0), (1, 4, 2), (1, 5, 0), (1, 5, 6), (1, 6, 0), (1, 6, 4), (1, 6, 5), (1, 6, 7), (1, 7, 6), (1, 8, 1), (1, 9, 0), (2, 0, 0), (2, 0, 1), (2, 0, 3), (2, 0, 4), (2, 0, 6), (2, 0, 7), (2, 1, 0), (2, 1, 3), (2, 1, 5), (2, 2, 0), (2, 2, 2), (2, 2, 8), (2, 3, 0), (2, 3, 1), (2, 3, 7), (2, 4, 0), (2, 4, 4), (2, 4, 5), (2, 5, 0), (2, 5, 3), (2, 5, 9), (2, 6, 0), (2, 6, 1), (2, 7, 5), (2, 7, 6), (2, 8, 3), (2, 9, 6), (3, 0, 2), (3, 0, 4), (3, 0, 5), (3, 0, 7), (3, 1, 0), (3, 1, 1), (3, 1, 7), (3, 2, 0), (3, 2, 4), (3, 2, 6), (3, 3, 0), (3, 3, 3), (3, 3, 9), (3, 4, 0), (3, 4, 2), (3, 4, 8), (3, 5, 0), (3, 5, 5), (3, 5, 6), (3, 6, 4), (3, 7, 1), (3, 7, 2), (3, 8, 6), (4, 0, 0), (4, 0, 1), (4, 0, 3), (4, 0, 4), (4, 0, 5), (4, 0, 6), (4, 1, 0), (4, 1, 3), (4, 2, 0), (4, 2, 1), (4, 2, 2), (4, 2, 8), (4, 3, 0), (4, 3, 5), (4, 3, 7), (4, 4, 0), (4, 4, 4), (4, 5, 0), (4, 5, 1), (4, 5, 3), (4, 6, 0), (4, 7, 5), (5, 0, 0), (5, 0, 1), (5, 0, 2), (5, 0, 3), (5, 0, 4), (5, 0, 5), (5, 0, 6), (5, 0, 7), (5, 0, 8), (5, 1, 0), (5, 1, 6), (5, 1, 7), (5, 2, 0), (5, 2, 4), (5, 3, 2), (5, 3, 3), (5, 4, 0), (5, 4, 6), (5, 5, 0), (5, 5, 5), (5, 6, 0), (5, 6, 2), (5, 6, 4), (6, 0, 1), (6, 0, 2), (6, 0, 4), (6, 0, 5), (6, 0, 6), (6, 0, 7), (6, 1, 0), (6, 1, 2), (6, 1, 3), (6, 2, 1), (6, 2, 7), (6, 2, 8), (6, 3, 0), (6, 3, 5), (6, 4, 0), (6, 4, 3), (6, 4, 4), (6, 5, 1), (6, 6, 0), (6, 6, 6), (6, 7, 5), (6, 8, 0), (7, 0, 0), (7, 0, 1), (7, 0, 3), (7, 0, 4), (7, 0, 5), (7, 0, 6), (7, 0, 7), (7, 0, 9), (7, 1, 0), (7, 1, 2), (7, 1, 6), (7, 2, 0), (7, 2, 1), (7, 2, 3), (7, 2, 4), (7, 3, 0), (7, 3, 2), (7, 3, 8), (7, 4, 0), (7, 4, 6), (7, 5, 0), (7, 5, 4), (7, 5, 5), (7, 6, 10), (8, 0, 0), (8, 0, 1), (8, 0, 2), (8, 0, 4), (8, 0, 5), (8, 0, 7), (8, 1, 0), (8, 1, 4), (8, 1, 6), (8, 1, 8), (8, 2, 0), (8, 2, 3), (8, 2, 7), (8, 3, 0), (8, 3, 2), (8, 3, 4), (8, 3, 5), (8, 4, 0), (8, 4, 3), (8, 4, 9), (8, 5, 1), (8, 6, 5), (9, 0, 0), (9, 0, 1), (9, 0, 3), (9, 0, 4), (9, 0, 5), (9, 0, 6), (9, 0, 7), (9, 0, 8), (9, 0, 11), (9, 1, 1), (9, 1, 2), (9, 1, 8), (9, 2, 0), (9, 2, 5), (9, 2, 7), (9, 3, 4), (9, 3, 8), (9, 4, 3), (9, 4, 5), (9, 4, 6), (9, 5, 4), (9, 7, 0), (9, 208, 126), (10, 0, 0), (10, 0, 1), (10, 0, 2), (10, 0, 4), (10, 0, 5), (10, 0, 6), (10, 0, 7), (10, 0, 8), (10, 0, 9), (10, 1, 0), (10, 1, 4), (10, 2, 2), (10, 2, 3), (10, 2, 9), (10, 3, 6), (10, 3, 8), (10, 4, 5), (10, 5, 2), (10, 5, 4), (10, 5, 6), (10, 7, 3), (10, 208, 126), (10, 213, 126), (11, 0, 0), (11, 0, 1), (11, 0, 2), (11, 0, 3), (11, 0, 4), (11, 0, 5), (11, 0, 6), (11, 0, 8), (11, 0, 9), (11, 1, 1), (11, 1, 7), (11, 2, 5), (11, 3, 3), (11, 3, 4), (11, 4, 7), (11, 5, 6), (12, 0, 0), (12, 0, 1), (12, 0, 2), (12, 0, 3), (12, 0, 4), (12, 0, 5), (12, 0, 6), (12, 0, 7), (12, 0, 9), (12, 1, 3), (12, 1, 4), (12, 2, 2), (12, 2, 8), (12, 3, 6), (12, 212, 128), (12, 214, 120), (13, 0, 1), (13, 0, 2), (13, 0, 3), (13, 0, 4), (13, 0, 5), (13, 0, 8), (13, 1, 0), (13, 1, 1), (13, 1, 7), (13, 2, 4), (13, 2, 5), (13, 3, 3), (13, 4, 1), (13, 211, 115), (13, 212, 128), (13, 213, 126), (13, 216, 119), (13, 217, 122), (14, 0, 0), (14, 0, 1), (14, 0, 3), (14, 0, 4), (14, 0, 5), (14, 0, 6), (14, 0, 7), (14, 1, 3), (14, 1, 9), (14, 2, 0), (14, 2, 2), (14, 3, 5), (14, 5, 8), (14, 211, 119), (14, 212, 118), (14, 213, 121), (14, 214, 120), (14, 216, 122), (14, 216, 123), (15, 0, 2), (15, 0, 4), (15, 0, 5), (15, 0, 6), (15, 0, 7), (15, 0, 8), (15, 1, 7), (15, 2, 4), (15, 3, 1), (15, 4, 6), (15, 4, 7), (15, 6, 3), (15, 211, 121), (15, 214, 122), (15, 214, 123), (15, 215, 121), (16, 0, 0), (16, 0, 1), (16, 0, 3), (16, 0, 4), (16, 0, 6), (16, 0, 7), (16, 0, 8), (16, 1, 5), (16, 211, 118), (16, 212, 122), (16, 214, 120), (16, 214, 126), (16, 215, 123), (17, 0, 0), (17, 0, 2), (17, 0, 4), (17, 0, 5), (17, 207, 125), (17, 208, 123), (17, 208, 127), (17, 209, 122), (17, 210, 119), (17, 210, 120), (17, 211, 118), (17, 211, 121), (17, 212, 116), (17, 212, 119), (17, 212, 126), (17, 214, 122), (17, 215, 121), (17, 220, 123), (18, 0, 0), (18, 0, 1), (18, 0, 2), (18, 0, 3), (18, 0, 6), (18, 0, 7), (18, 0, 8), (18, 1, 5), (18, 208, 121), (18, 209, 118), (18, 209, 124), (18, 209, 128), (18, 210, 117), (18, 210, 123), (18, 211, 120), (18, 211, 121), (18, 211, 124), (18, 212, 129), (18, 213, 116), (18, 213, 120), (18, 213, 121), (18, 213, 127), (18, 214, 124), (18, 214, 126), (18, 215, 123), (18, 216, 128), (18, 217, 125), (18, 217, 126), (19, 0, 0), (19, 0, 4), (19, 0, 7), (19, 206, 127), (19, 207, 125), (19, 208, 123), (19, 209, 120), (19, 209, 122), (19, 210, 119), (19, 211, 118), (19, 211, 124), (19, 212, 121), (19, 212, 122), (19, 212, 125), (19, 212, 126), (19, 213, 120), (19, 213, 123), (19, 214, 121), (19, 214, 122), (19, 215, 119), (19, 215, 125), (19, 216, 124), (19, 217, 121), (19, 217, 123), (19, 218, 120), (19, 218, 126), (19, 218, 127), (20, 0, 0), (20, 206, 122), (20, 207, 121), (20, 208, 119), (20, 209, 118), (20, 210, 121), (20, 210, 128), (20, 211, 120), (20, 211, 126), (20, 211, 130), (20, 212, 117), (20, 212, 125), (20, 212, 129), (20, 213, 122), (20, 213, 123), (20, 213, 126), (20, 213, 127), (20, 214, 121), (20, 214, 124), (20, 215, 122), (20, 215, 123), (20, 216, 120), (20, 216, 126), (20, 217, 125), (20, 218, 122), (21, 206, 120), (21, 207, 118), (21, 207, 123), (21, 208, 122), (21, 209, 120), (21, 210, 118), (21, 210, 119), (21, 210, 125), (21, 211, 116), (21, 211, 122), (21, 211, 124), (21, 211, 129), (21, 211, 130), (21, 212, 121), (21, 212, 127), (21, 213, 120), (21, 213, 126), (21, 213, 130), (21, 214, 123), (21, 214, 124), (21, 214, 127), (21, 214, 128), (21, 215, 122), (21, 215, 125), (21, 216, 120), (21, 216, 123), (21, 216, 124), (21, 217, 121), (21, 217, 127), (21, 218, 120), (22, 0, 0), (22, 3, 0), (22, 3, 6), (22, 204, 119), (22, 206, 122), (22, 207, 121), (22, 208, 118), (22, 208, 119), (22, 208, 124), (22, 208, 126), (22, 209, 117), (22, 209, 123), (22, 209, 129), (22, 210, 121), (22, 210, 128), (22, 211, 119), (22, 211, 120), (22, 211, 126), (22, 212, 117), (22, 212, 123), (22, 212, 125), (22, 212, 130), (22, 212, 131), (22, 213, 122), (22, 214, 119), (22, 214, 121), (22, 214, 127), (22, 215, 124), (22, 215, 125), (22, 215, 128), (22, 216, 123), (22, 216, 126), (22, 217, 121), (22, 217, 124), (22, 217, 125), (22, 218, 122), (22, 219, 127), (22, 220, 126), (23, 2, 0), (23, 204, 129), (23, 205, 121), (23, 207, 123), (23, 208, 122), (23, 209, 119), (23, 209, 120), (23, 209, 125), (23, 209, 127), (23, 210, 118), (23, 210, 124), (23, 210, 130), (23, 211, 115), (23, 211, 116), (23, 211, 122), (23, 211, 129), (23, 212, 120), (23, 212, 121), (23, 212, 127), (23, 213, 118), (23, 213, 124), (23, 213, 126), (23, 214, 123), (23, 214, 129), (23, 215, 120), (23, 215, 122), (23, 215, 128), (23, 216, 125), (23, 216, 126), (23, 216, 129), (23, 217, 124), (23, 218, 121), (23, 218, 125), (24, 204, 121), (24, 204, 123), (24, 205, 124), (24, 206, 121), (24, 206, 122), (24, 207, 117), (24, 207, 119), (24, 207, 126), (24, 207, 127), (24, 208, 118), (24, 208, 124), (24, 209, 123), (24, 209, 129), (24, 210, 120), (24, 210, 121), (24, 210, 126), (24, 211, 119), (24, 211, 125), (24, 212, 117), (24, 212, 123), (24, 212, 130), (24, 213, 121), (24, 213, 122), (24, 213, 128), (24, 214, 119), (24, 214, 125), (24, 214, 127), (24, 215, 124), (24, 215, 130), (24, 216, 121), (24, 216, 123), (24, 217, 126), (24, 217, 127), (24, 217, 130), (24, 218, 125), (24, 219, 123), (25, 203, 120), (25, 204, 119), (25, 205, 116), (25, 205, 122), (25, 205, 124), (25, 205, 126), (25, 206, 121), (25, 206, 125), (25, 207, 119), (25, 207, 122), (25, 207, 123), (25, 208, 118), (25, 208, 120), (25, 208, 127), (25, 209, 119), (25, 209, 125), (25, 210, 118), (25, 210, 124), (25, 210, 130), (25, 211, 121), (25, 211, 122), (25, 211, 127), (25, 211, 129), (25, 212, 120), (25, 212, 126), (25, 213, 124), (25, 213, 131), (25, 214, 122), (25, 214, 123), (25, 214, 129), (25, 215, 120), (25, 215, 126), (25, 215, 128), (25, 215, 133), (25, 216, 125), (25, 217, 124), (25, 218, 121), (25, 218, 127), (26, 203, 130), (26, 204, 121), (26, 205, 126), (26, 205, 130), (26, 206, 123), (26, 206, 125), (26, 206, 127), (26, 207, 116), (26, 207, 122), (26, 207, 126), (26, 207, 132), (26, 208, 120), (26, 208, 123), (26, 208, 124), (26, 209, 118), (26, 209, 119), (26, 209, 121), (26, 209, 128), (26, 209, 129), (26, 210, 120), (26, 210, 126), (26, 210, 132), (26, 211, 119), (26, 211, 125), (26, 211, 131), (26, 212, 122), (26, 212, 123), (26, 212, 128), (26, 212, 130), (26, 213, 121), (26, 213, 127), (26, 214, 118), (26, 214, 119), (26, 214, 125), (26, 215, 123), (26, 215, 124), (26, 216, 121), (26, 216, 127), (26, 216, 129), (26, 217, 120), (26, 217, 126), (26, 218, 125), (26, 219, 128), (26, 219, 129), (26, 220, 127), (27, 203, 126), (27, 204, 124), (27, 205, 122), (27, 206, 121), (27, 206, 127), (27, 207, 119), (27, 207, 124), (27, 207, 126), (27, 207, 128), (27, 208, 123), (27, 208, 127), (27, 209, 121), (27, 209, 124), (27, 209, 125), (27, 209, 131), (27, 210, 119), (27, 210, 120), (27, 210, 122), (27, 210, 129), (27, 210, 130), (27, 211, 117), (27, 211, 121), (27, 211, 127), (27, 212, 120), (27, 212, 126), (27, 213, 123), (27, 213, 124), (27, 213, 129), (27, 213, 131), (27, 214, 122), (27, 214, 128), (27, 215, 119), (27, 215, 120), (27, 215, 126), (27, 215, 133), (27, 216, 124), (27, 216, 125), (27, 217, 122), (27, 217, 128), (27, 217, 130), (27, 218, 127), (27, 219, 126), (28, 204, 121), (28, 205, 118), (28, 205, 125), (28, 205, 126), (28, 206, 117), (28, 206, 123), (28, 206, 129), (28, 207, 122), (28, 207, 128), (28, 208, 119), (28, 208, 120), (28, 208, 125), (28, 208, 127), (28, 208, 129), (28, 209, 118), (28, 209, 124), (28, 209, 128), (28, 210, 116), (28, 210, 122), (28, 210, 125), (28, 210, 126), (28, 211, 120), (28, 211, 121), (28, 211, 123), (28, 211, 130), (28, 212, 122), (28, 212, 128), (28, 213, 119), (28, 213, 121), (28, 213, 127), (28, 214, 124), (28, 214, 125), (28, 214, 130), (28, 215, 123), (28, 215, 129), (28, 216, 121), (28, 216, 127), (28, 217, 125), (28, 217, 126), (28, 218, 123), (29, 203, 125), (29, 204, 124), (29, 205, 121), (29, 205, 122), (29, 205, 128), (29, 206, 119), (29, 206, 126), (29, 207, 118), (29, 207, 124), (29, 208, 123), (29, 208, 129), (29, 209, 120), (29, 209, 121), (29, 209, 126), (29, 209, 128), (29, 209, 130), (29, 209, 131), (29, 210, 119), (29, 210, 125), (29, 210, 129), (29, 211, 123), (29, 211, 126), (29, 211, 127), (29, 212, 121), (29, 212, 122), (29, 212, 124), (29, 212, 131), (29, 213, 123), (29, 213, 129), (29, 214, 120), (29, 214, 122), (29, 214, 128), (29, 215, 125), (29, 215, 126), (29, 215, 131), (29, 216, 124), (29, 216, 130), (29, 217, 128), (29, 218, 126), (29, 218, 127), (29, 219, 124), (30, 204, 126), (30, 205, 125), (30, 205, 131), (30, 206, 122), (30, 206, 123), (30, 207, 120), (30, 207, 127), (30, 207, 128), (30, 208, 119), (30, 208, 125), (30, 208, 131), (30, 208, 133), (30, 209, 124), (30, 209, 130), (30, 210, 121), (30, 210, 122), (30, 210, 127), (30, 210, 129), (30, 210, 131), (30, 210, 132), (30, 211, 120), (30, 211, 126), (30, 211, 130), (30, 212, 124), (30, 212, 127), (30, 212, 128), (30, 213, 122), (30, 213, 123), (30, 213, 125), (30, 213, 132), (30, 214, 120), (30, 214, 124), (30, 214, 130), (30, 215, 121), (30, 215, 123), (30, 215, 129), (30, 216, 126), (30, 216, 127), (30, 216, 132), (30, 217, 125), (30, 217, 131), (30, 218, 123), (30, 219, 128), (31, 202, 123), (31, 203, 125), (31, 204, 120), (31, 204, 122), (31, 205, 121), (31, 205, 127), (31, 206, 119), (31, 206, 126), (31, 207, 123), (31, 207, 124), (31, 207, 130), (31, 208, 121), (31, 208, 128), (31, 208, 129), (31, 209, 120), (31, 209, 126), (31, 209, 132), (31, 210, 117), (31, 210, 119), (31, 210, 125), (31, 210, 131), (31, 211, 122), (31, 211, 123), (31, 211, 128), (31, 211, 130), (31, 211, 132), (31, 212, 121), (31, 212, 127), (31, 212, 131), (31, 213, 119), (31, 213, 125), (31, 213, 128), (31, 213, 129), (31, 214, 123), (31, 214, 124), (31, 214, 126), (31, 215, 121), (31, 215, 125), (31, 215, 131), (31, 216, 122), (31, 216, 124), (31, 216, 130), (31, 217, 121), (31, 217, 127), (31, 217, 128), (31, 218, 126), (31, 219, 123), (32, 203, 124), (32, 204, 122), (32, 204, 126), (32, 205, 121), (32, 205, 123), (32, 205, 125), (32, 206, 122), (32, 206, 128), (32, 206, 129), (32, 207, 120), (32, 207, 127), (32, 207, 133), (32, 207, 134), (32, 208, 119), (32, 208, 124), (32, 208, 125), (32, 208, 131), (32, 209, 122), (32, 209, 129), (32, 209, 130), (32, 210, 121), (32, 210, 127), (32, 211, 120), (32, 211, 126), (32, 211, 132), (32, 212, 123), (32, 212, 124), (32, 212, 129), (32, 212, 131), (32, 212, 134), (32, 213, 122), (32, 213, 128), (32, 213, 132), (32, 214, 126), (32, 214, 129), (32, 214, 130), (32, 215, 124), (32, 215, 125), (32, 215, 127), (32, 215, 135), (32, 216, 122), (32, 216, 126), (32, 216, 132), (32, 217, 125), (32, 217, 131), (32, 218, 128), (32, 218, 129), (32, 219, 127), (32, 220, 131), (33, 202, 129), (33, 203, 120), (33, 203, 121), (33, 204, 125), (33, 204, 126), (33, 205, 123), (33, 205, 127), (33, 206, 120), (33, 206, 122), (33, 206, 124), (33, 206, 126), (33, 206, 132), (33, 207, 119), (33, 207, 123), (33, 207, 129), (33, 207, 130), (33, 208, 118), (33, 208, 121), (33, 208, 128), (33, 209, 119), (33, 209, 120), (33, 209, 125), (33, 209, 126), (33, 209, 132), (33, 210, 117), (33, 210, 123), (33, 210, 130), (33, 210, 131), (33, 211, 122), (33, 211, 128), (33, 211, 134), (33, 212, 119), (33, 212, 121), (33, 212, 127), (33, 212, 133), (33, 213, 124), (33, 213, 125), (33, 213, 130), (33, 213, 132), (33, 213, 134), (33, 213, 135), (33, 214, 123), (33, 214, 129), (33, 214, 133), (33, 215, 127), (33, 215, 130), (33, 215, 131), (33, 216, 125), (33, 216, 126), (33, 216, 128), (33, 216, 135), (33, 217, 127), (33, 217, 133), (33, 218, 126), (34, 202, 125), (34, 204, 121), (34, 204, 122), (34, 204, 128), (34, 205, 119), (34, 205, 126), (34, 205, 127), (34, 205, 129), (34, 206, 124), (34, 206, 128), (34, 206, 134), (34, 207, 121), (34, 207, 123), (34, 207, 125), (34, 207, 127), (34, 207, 133), (34, 208, 124), (34, 208, 130), (34, 208, 131), (34, 209, 122), (34, 209, 129), (34, 210, 120), (34, 210, 121), (34, 210, 126), (34, 210, 127), (34, 211, 124), (34, 211, 131), (34, 211, 132), (34, 212, 123), (34, 212, 129), (34, 213, 120), (34, 213, 122), (34, 213, 128), (34, 213, 134), (34, 214, 125), (34, 214, 126), (34, 214, 131), (34, 214, 133), (34, 215, 124), (34, 215, 130), (34, 215, 134), (34, 216, 128), (34, 216, 131), (34, 216, 132), (34, 217, 126), (34, 217, 127), (34, 217, 129), (34, 218, 124), (34, 218, 128), (34, 218, 134), (34, 219, 133), (35, 203, 126), (35, 204, 125), (35, 205, 122), (35, 205, 123), (35, 205, 129), (35, 206, 120), (35, 206, 127), (35, 206, 128), (35, 206, 130), (35, 206, 132), (35, 207, 125), (35, 207, 129), (35, 208, 122), (35, 208, 124), (35, 208, 126), (35, 208, 128), (35, 209, 121), (35, 209, 125), (35, 209, 131), (35, 209, 132), (35, 210, 120), (35, 210, 123), (35, 210, 130), (35, 211, 121), (35, 211, 122), (35, 211, 127), (35, 211, 128), (35, 212, 125), (35, 212, 132), (35, 212, 133), (35, 213, 124), (35, 213, 130), (35, 214, 121), (35, 214, 123), (35, 214, 129), (35, 214, 135), (35, 215, 126), (35, 215, 127), (35, 215, 132), (35, 215, 134), (35, 216, 125), (35, 216, 131), (35, 217, 129), (35, 217, 132), (35, 217, 133), (35, 218, 127), (35, 218, 128), (35, 218, 130), (35, 219, 129), (36, 202, 125), (36, 204, 121), (36, 204, 127), (36, 204, 128), (36, 205, 119), (36, 205, 126), (36, 205, 132), (36, 206, 123), (36, 206, 124), (36, 206, 130), (36, 207, 121), (36, 207, 128), (36, 207, 129), (36, 207, 131), (36, 207, 133), (36, 208, 120), (36, 208, 126), (36, 208, 130), (36, 209, 117), (36, 209, 123), (36, 209, 125), (36, 209, 127), (36, 209, 129), (36, 209, 135), (36, 210, 122), (36, 210, 126), (36, 210, 132), (36, 210, 133), (36, 211, 121), (36, 211, 124), (36, 211, 131), (36, 212, 122), (36, 212, 123), (36, 212, 128), (36, 212, 129), (36, 213, 120), (36, 213, 126), (36, 213, 133), (36, 214, 119), (36, 214, 125), (36, 214, 131), (36, 215, 124), (36, 215, 130), (36, 216, 121), (36, 216, 127), (36, 216, 128), (36, 216, 133), (36, 217, 126), (36, 217, 132), (36, 218, 130), (36, 219, 131), (37, 202, 127), (37, 202, 129), (37, 203, 126), (37, 204, 123), (37, 204, 125), (37, 204, 131), (37, 205, 122), (37, 205, 128), (37, 205, 129), (37, 205, 134), (37, 206, 120), (37, 206, 127), (37, 206, 133), (37, 207, 124), (37, 207, 125), (37, 207, 131), (37, 207, 135), (37, 208, 122), (37, 208, 129), (37, 208, 130), (37, 208, 132), (37, 208, 134), (37, 209, 121), (37, 209, 127), (37, 209, 131), (37, 210, 124), (37, 210, 126), (37, 210, 128), (37, 210, 130), (37, 211, 123), (37, 211, 127), (37, 211, 133), (37, 211, 134), (37, 212, 122), (37, 212, 125), (37, 212, 132), (37, 213, 123), (37, 213, 124), (37, 213, 129), (37, 213, 130), (37, 214, 127), (37, 214, 134), (37, 215, 126), (37, 215, 132), (37, 216, 125), (37, 216, 131), (37, 217, 129), (37, 218, 133), (37, 219, 131), (38, 200, 128), (38, 202, 124), (38, 202, 125), (38, 203, 122), (38, 204, 127), (38, 204, 133), (38, 205, 124), (38, 205, 126), (38, 205, 132), (38, 206, 123), (38, 206, 129), (38, 206, 130), (38, 206, 135), (38, 207, 121), (38, 207, 128), (38, 208, 119), (38, 208, 125), (38, 208, 126), (38, 208, 132), (38, 209, 123), (38, 209, 130), (38, 209, 131), (38, 210, 122), (38, 210, 128), (38, 210, 132), (38, 211, 125), (38, 211, 127), (38, 211, 129), (38, 211, 131), (38, 212, 124), (38, 212, 128), (38, 212, 134), (38, 213, 123), (38, 213, 126), (38, 213, 133), (38, 214, 124), (38, 214, 125), (38, 214, 130), (38, 214, 131), (38, 215, 128), (38, 215, 135), (38, 216, 127), (38, 216, 133), (38, 217, 132), (38, 218, 130), (39, 201, 123), (39, 203, 125), (39, 203, 126), (39, 204, 129), (39, 204, 131), (39, 205, 120), (39, 205, 122), (39, 205, 128), (39, 206, 125), (39, 206, 127), (39, 206, 133), (39, 207, 124), (39, 207, 130), (39, 207, 131), (39, 208, 122), (39, 208, 129), (39, 209, 126), (39, 209, 127), (39, 209, 133), (39, 209, 137), (39, 210, 124), (39, 210, 131), (39, 210, 132), (39, 210, 134), (39, 211, 123), (39, 211, 129), (39, 211, 133), (39, 212, 126), (39, 212, 128), (39, 212, 130), (39, 212, 132), (39, 213, 125), (39, 213, 129), (39, 214, 124), (39, 214, 127), (39, 214, 134), (39, 215, 125), (39, 215, 126), (39, 215, 131), (39, 215, 132), (39, 216, 129), (39, 217, 128), (39, 218, 127), (39, 218, 133), (39, 219, 131), (40, 198, 127), (40, 199, 125), (40, 200, 124), (40, 202, 124), (40, 204, 126), (40, 204, 127), (40, 205, 124), (40, 205, 130), (40, 205, 132), (40, 206, 121), (40, 206, 123), (40, 206, 129), (40, 206, 135), (40, 207, 126), (40, 207, 128), (40, 207, 134), (40, 208, 125), (40, 208, 131), (40, 208, 132), (40, 209, 123), (40, 209, 130), (40, 210, 122), (40, 210, 127), (40, 210, 128), (40, 211, 125), (40, 211, 132), (40, 211, 133), (40, 212, 124), (40, 212, 130), (40, 212, 134), (40, 213, 127), (40, 213, 129), (40, 213, 131), (40, 213, 133), (40, 213, 139), (40, 214, 126), (40, 214, 130), (40, 215, 128), (40, 216, 127), (40, 216, 132), (40, 216, 133), (41, 199, 128), (41, 199, 129), (41, 201, 125), (41, 203, 131), (41, 204, 123), (41, 204, 129), (41, 205, 127), (41, 205, 128), (41, 206, 125), (41, 206, 131), (41, 206, 133), (41, 207, 124), (41, 207, 130), (41, 208, 127), (41, 208, 129), (41, 209, 126), (41, 209, 132), (41, 209, 133), (41, 210, 124), (41, 210, 131), (41, 211, 123), (41, 211, 128), (41, 211, 129), (41, 212, 126), (41, 212, 133), (41, 212, 134), (41, 213, 125), (41, 213, 131), (41, 213, 135), (41, 214, 128), (41, 214, 130), (41, 214, 132), (41, 214, 134), (41, 215, 127), (41, 215, 131), (41, 216, 129), (42, 201, 127), (42, 202, 126), (42, 202, 130), (42, 203, 123), (42, 203, 125), (42, 203, 127), (42, 203, 128), (42, 203, 133), (42, 204, 126), (42, 205, 124), (42, 205, 130), (42, 206, 128), (42, 206, 129), (42, 207, 126), (42, 207, 132), (42, 207, 134), (42, 208, 125), (42, 208, 131), (42, 209, 122), (42, 209, 128), (42, 209, 130), (42, 210, 127), (42, 210, 133), (42, 211, 125), (42, 211, 132), (42, 212, 124), (42, 212, 129), (42, 212, 130), (42, 213, 127), (42, 213, 134), (42, 214, 126), (42, 214, 132), (42, 215, 129), (42, 215, 131), (42, 215, 133), (42, 216, 132), (42, 219, 132), (43, 199, 128), (43, 200, 126), (43, 200, 133), (43, 201, 125), (43, 201, 130), (43, 201, 134), (43, 202, 128), (43, 202, 132), (43, 203, 127), (43, 203, 131), (43, 204, 126), (43, 204, 128), (43, 204, 129), (43, 204, 134), (43, 204, 136), (43, 205, 127), (43, 205, 133), (43, 206, 125), (43, 206, 131), (43, 207, 122), (43, 207, 129), (43, 207, 130), (43, 208, 127), (43, 208, 133), (43, 208, 135), (43, 209, 124), (43, 209, 126), (43, 209, 132), (43, 210, 123), (43, 210, 129), (43, 210, 131), (43, 211, 128), (43, 211, 134), (43, 211, 135), (43, 212, 126), (43, 212, 133), (43, 213, 125), (43, 213, 130), (43, 213, 131), (43, 214, 128), (43, 214, 135), (43, 215, 127), (43, 215, 133), (44, 199, 130), (44, 199, 132), (44, 201, 127), (44, 202, 125), (44, 202, 126), (44, 202, 131), (44, 202, 132), (44, 203, 129), (44, 203, 133), (44, 204, 122), (44, 204, 128), (44, 204, 132), (44, 205, 127), (44, 205, 129), (44, 205, 130), (44, 206, 128), (44, 206, 134), (44, 207, 125), (44, 207, 126), (44, 207, 132), (44, 208, 123), (44, 208, 130), (44, 208, 131), (44, 209, 128), (44, 209, 134), (44, 210, 125), (44, 210, 127), (44, 210, 133), (44, 211, 130), (44, 211, 132), (44, 212, 129), (44, 212, 135), (44, 212, 136), (44, 214, 131), (44, 214, 132), (45, 198, 129), (45, 199, 134), (45, 200, 126), (45, 200, 131), (45, 200, 133), (45, 201, 124), (45, 201, 130), (45, 202, 128), (45, 203, 126), (45, 203, 127), (45, 203, 132), (45, 203, 133), (45, 203, 136), (45, 204, 124), (45, 204, 130), (45, 204, 134), (45, 205, 123), (45, 205, 129), (45, 205, 133), (45, 206, 126), (45, 206, 128), (45, 206, 130), (45, 206, 131), (45, 207, 125), (45, 207, 129), (45, 207, 135), (45, 208, 126), (45, 208, 127), (45, 208, 133), (45, 209, 124), (45, 209, 131), (45, 209, 132), (45, 210, 129), (45, 210, 135), (45, 211, 128), (45, 211, 134), (45, 212, 125), (45, 212, 131), (45, 212, 133), (45, 213, 130), (45, 214, 135), (45, 215, 127), (45, 215, 133), (45, 216, 130), (46, 199, 130), (46, 200, 129), (46, 201, 126), (46, 201, 127), (46, 201, 132), (46, 201, 134), (46, 202, 131), (46, 203, 129), (46, 203, 136), (46, 204, 127), (46, 204, 128), (46, 204, 133), (46, 204, 134), (46, 204, 137), (46, 205, 125), (46, 205, 131), (46, 205, 135), (46, 206, 130), (46, 206, 134), (46, 207, 127), (46, 207, 129), (46, 207, 131), (46, 207, 132), (46, 207, 137), (46, 208, 126), (46, 208, 130), (46, 208, 136), (46, 209, 127), (46, 209, 128), (46, 209, 134), (46, 210, 125), (46, 210, 132), (46, 210, 133), (46, 211, 130), (46, 212, 129), (46, 212, 135), (46, 213, 134), (47, 198, 129), (47, 199, 134), (47, 200, 125), (47, 200, 131), (47, 201, 130), (47, 202, 127), (47, 202, 128), (47, 202, 133), (47, 203, 126), (47, 203, 132), (47, 203, 138), (47, 204, 124), (47, 204, 130), (47, 204, 137), (47, 205, 128), (47, 205, 129), (47, 205, 134), (47, 205, 135), (47, 206, 126), (47, 206, 132), (47, 206, 136), (47, 207, 125), (47, 207, 131), (47, 207, 135), (47, 208, 128), (47, 208, 130), (47, 208, 132), (47, 208, 133), (47, 209, 127), (47, 209, 131), (47, 210, 129), (47, 211, 126), (47, 211, 133), (47, 211, 134), (47, 212, 131), (47, 214, 133), (48, 199, 129), (48, 200, 124), (48, 200, 127), (48, 200, 134), (48, 201, 126), (48, 201, 132), (48, 201, 138), (48, 202, 131), (48, 203, 128), (48, 203, 129), (48, 203, 134), (48, 203, 136), (48, 204, 127), (48, 204, 133), (48, 205, 131), (48, 206, 129), (48, 206, 130), (48, 206, 135), (48, 206, 136), (48, 207, 127), (48, 207, 133), (48, 207, 137), (48, 208, 126), (48, 208, 132), (48, 208, 136), (48, 209, 129), (48, 209, 131), (48, 209, 133), (48, 209, 134), (48, 210, 132), (48, 211, 129), (48, 211, 130), (48, 211, 136), (48, 212, 135), (49, 199, 133), (49, 200, 127), (49, 200, 130), (49, 200, 137), (49, 201, 128), (49, 201, 135), (49, 201, 136), (49, 202, 127), (49, 202, 133), (49, 203, 126), (49, 203, 132), (49, 203, 138), (49, 204, 129), (49, 204, 130), (49, 204, 135), (49, 205, 128), (49, 205, 134), (49, 205, 140), (49, 206, 126), (49, 206, 132), (49, 207, 130), (49, 207, 131), (49, 207, 136), (49, 207, 137), (49, 208, 128), (49, 208, 134), (49, 209, 127), (49, 209, 133), (49, 210, 130), (49, 210, 132), (49, 210, 135), (49, 211, 133), (50, 196, 132), (50, 199, 133), (50, 200, 130), (50, 201, 128), (50, 201, 131), (50, 201, 132), (50, 202, 126), (50, 202, 127), (50, 202, 129), (50, 202, 136), (50, 202, 137), (50, 203, 128), (50, 203, 134), (50, 204, 125), (50, 204, 127), (50, 204, 133), (50, 204, 139), (50, 205, 130), (50, 205, 131), (50, 205, 136), (50, 205, 138), (50, 206, 129), (50, 206, 135), (50, 207, 126), (50, 207, 127), (50, 207, 133), (50, 208, 131), (50, 208, 132), (50, 208, 138), (50, 209, 129), (50, 210, 128), (50, 210, 134), (50, 210, 138), (50, 211, 131), (50, 211, 133), (50, 217, 138), (51, 200, 132), (51, 201, 131), (51, 201, 135), (51, 202, 129), (51, 202, 132), (51, 202, 133), (51, 203, 127), (51, 203, 128), (51, 203, 130), (51, 203, 137), (51, 204, 129), (51, 204, 135), (51, 204, 141), (51, 205, 126), (51, 205, 128), (51, 205, 134), (51, 206, 131), (51, 206, 132), (51, 206, 137), (51, 207, 130), (51, 207, 136), (51, 208, 128), (51, 208, 134), (51, 209, 132), (51, 209, 133), (51, 210, 130), (52, 199, 131), (52, 200, 128), (52, 200, 130), (52, 201, 133), (52, 201, 135), (52, 202, 126), (52, 202, 132), (52, 202, 136), (52, 203, 130), (52, 203, 133), (52, 203, 134), (52, 203, 140), (52, 204, 128), (52, 204, 129), (52, 204, 131), (52, 205, 126), (52, 205, 130), (52, 205, 136), (52, 206, 127), (52, 206, 129), (52, 206, 135), (52, 207, 132), (52, 207, 133), (52, 208, 131), (52, 209, 129), (52, 209, 135), (52, 210, 133), (52, 210, 134), (52, 211, 131), (53, 195, 130), (53, 197, 132), (53, 199, 127), (53, 199, 134), (53, 200, 132), (53, 201, 129), (53, 201, 131), (53, 202, 128), (53, 202, 134), (53, 202, 136), (53, 202, 138), (53, 203, 133), (53, 204, 131), (53, 204, 134), (53, 204, 135), (53, 205, 129), (53, 205, 130), (53, 205, 132), (53, 205, 139), (53, 206, 131), (53, 206, 137), (53, 207, 128), (53, 207, 130), (53, 207, 136), (53, 208, 133), (53, 208, 134), (53, 209, 132), (53, 209, 138), (53, 210, 130), (53, 210, 136), (53, 211, 134), (54, 197, 128), (54, 198, 126), (54, 198, 133), (54, 199, 130), (54, 200, 128), (54, 200, 135), (54, 200, 136), (54, 201, 133), (54, 201, 139), (54, 202, 130), (54, 202, 132), (54, 203, 129), (54, 203, 135), (54, 203, 137), (54, 204, 128), (54, 204, 134), (54, 204, 138), (54, 205, 132), (54, 205, 135), (54, 206, 130), (54, 206, 131), (54, 206, 133), (54, 207, 132), (54, 207, 138), (54, 208, 129), (54, 208, 131), (54, 208, 137), (54, 209, 134), (54, 209, 135), (54, 210, 133), (55, 195, 131), (55, 197, 130), (55, 198, 129), (55, 199, 134), (55, 200, 131), (55, 200, 132), (55, 201, 129), (55, 201, 136), (55, 201, 137), (55, 202, 128), (55, 202, 134), (55, 203, 131), (55, 203, 133), (55, 204, 130), (55, 204, 136), (55, 204, 138), (55, 204, 141), (55, 205, 135), (55, 205, 139), (55, 206, 127), (55, 206, 133), (55, 206, 136), (55, 206, 137), (55, 207, 131), (55, 207, 132), (55, 207, 134), (55, 208, 129), (55, 208, 133), (56, 196, 132), (56, 196, 133), (56, 197, 130), (56, 198, 127), (56, 198, 129), (56, 198, 131), (56, 198, 133), (56, 199, 130), (56, 199, 136), (56, 200, 135), (56, 201, 132), (56, 201, 133), (56, 202, 130), (56, 202, 138), (56, 203, 129), (56, 203, 135), (56, 203, 141), (56, 204, 128), (56, 204, 132), (56, 204, 134), (56, 205, 131), (56, 205, 137), (56, 205, 139), (56, 206, 130), (56, 206, 136), (56, 207, 134), (56, 207, 137), (56, 208, 133), (56, 208, 135), (56, 210, 131), (56, 210, 133), (57, 194, 133), (57, 197, 133), (57, 197, 136), (57, 198, 131), (57, 198, 135), (57, 199, 128), (57, 199, 130), (57, 199, 132), (57, 199, 134), (57, 200, 131), (57, 200, 137), (57, 201, 129), (57, 201, 136), (57, 202, 128), (57, 202, 133), (57, 202, 134), (57, 203, 131), (57, 204, 130), (57, 204, 136), (57, 205, 129), (57, 205, 133), (57, 205, 135), (57, 206, 132), (57, 206, 138), (57, 208, 135), (57, 209, 133), (57, 209, 134), (57, 209, 136), (57, 210, 131), (57, 211, 134), (58, 195, 134), (58, 196, 132), (58, 197, 129), (58, 197, 130), (58, 198, 134), (58, 198, 135), (58, 198, 137), (58, 199, 132), (58, 199, 136), (58, 200, 129), (58, 200, 131), (58, 200, 133), (58, 200, 135), (58, 201, 128), (58, 201, 132), (58, 201, 138), (58, 202, 130), (58, 202, 137), (58, 203, 129), (58, 203, 134), (58, 203, 135), (58, 204, 132), (58, 205, 131), (58, 205, 137), (58, 206, 130), (58, 206, 134), (58, 206, 136), (58, 210, 135), (59, 194, 138), (59, 195, 137), (59, 197, 133), (59, 198, 130), (59, 198, 131), (59, 199, 135), (59, 199, 136), (59, 199, 138), (59, 200, 133), (59, 200, 137), (59, 201, 130), (59, 201, 132), (59, 201, 134), (59, 201, 136), (59, 202, 129), (59, 202, 133), (59, 203, 128), (59, 203, 131), (59, 203, 138), (59, 204, 129), (59, 204, 130), (59, 204, 135), (59, 205, 133), (59, 205, 140), (59, 207, 131), (59, 207, 135), (59, 207, 137), (59, 208, 134), (60, 193, 136), (60, 194, 134), (60, 196, 130), (60, 196, 132), (60, 197, 129), (60, 197, 135), (60, 197, 136), (60, 198, 134), (60, 198, 140), (60, 199, 131), (60, 199, 132), (60, 200, 129), (60, 200, 136), (60, 200, 137), (60, 200, 139), (60, 201, 134), (60, 201, 138), (60, 202, 131), (60, 202, 133), (60, 202, 135), (60, 202, 137), (60, 202, 143), (60, 203, 130), (60, 203, 134), (60, 203, 140), (60, 204, 132), (60, 204, 139), (60, 205, 131), (60, 205, 136), (60, 205, 137), (60, 206, 134), (61, 194, 132), (61, 195, 135), (61, 196, 134), (61, 197, 131), (61, 197, 133), (61, 198, 130), (61, 198, 136), (61, 198, 137), (61, 199, 128), (61, 199, 135), (61, 200, 132), (61, 200, 133), (61, 200, 139), (61, 201, 130), (61, 201, 137), (61, 201, 138), (61, 201, 140), (61, 202, 135), (61, 202, 139), (61, 203, 132), (61, 203, 134), (61, 203, 136), (61, 203, 138), (61, 204, 135), (61, 205, 133), (61, 206, 137), (61, 206, 138), (62, 191, 132), (62, 193, 130), (62, 194, 134), (62, 195, 133), (62, 195, 138), (62, 195, 139), (62, 196, 130), (62, 196, 136), (62, 197, 129), (62, 197, 135), (62, 197, 141), (62, 198, 132), (62, 198, 134), (62, 198, 140), (62, 199, 131), (62, 199, 137), (62, 199, 138), (62, 200, 129), (62, 200, 136), (62, 200, 142), (62, 201, 133), (62, 201, 134), (62, 201, 140), (62, 202, 131), (62, 202, 138), (62, 202, 139), (62, 203, 130), (62, 203, 136), (62, 203, 140), (62, 204, 133), (62, 204, 135), (62, 204, 137), (62, 205, 132), (62, 205, 136), (62, 206, 134), (63, 194, 137), (63, 195, 135), (63, 195, 142), (63, 196, 133), (63, 196, 134), (63, 196, 139), (63, 197, 131), (63, 197, 137), (63, 198, 128), (63, 198, 130), (63, 198, 136), (63, 199, 133), (63, 199, 135), (63, 199, 141), (63, 200, 132), (63, 200, 138), (63, 200, 139), (63, 201, 130), (63, 201, 137), (63, 201, 143), (63, 202, 134), (63, 202, 135), (63, 202, 141), (63, 203, 132), (63, 203, 139), (63, 203, 140), (63, 203, 142), (63, 204, 137), (63, 204, 141), (63, 205, 134), (63, 205, 136), (63, 205, 138), (63, 206, 137), (64, 193, 132), (64, 193, 134), (64, 193, 136), (64, 195, 132), (64, 196, 129), (64, 196, 130), (64, 196, 136), (64, 196, 143), (64, 197, 134), (64, 197, 135), (64, 197, 140), (64, 198, 132), (64, 198, 138), (64, 199, 129), (64, 199, 131), (64, 199, 137), (64, 200, 134), (64, 200, 136), (64, 200, 142), (64, 201, 133), (64, 201, 139), (64, 201, 140), (64, 202, 130), (64, 202, 131), (64, 202, 138), (64, 203, 135), (64, 203, 136), (64, 204, 133), (64, 204, 140), (64, 204, 141), (64, 205, 132), (64, 205, 138), (64, 206, 135), (64, 206, 137), (64, 207, 134), (64, 207, 138), (65, 192, 136), (65, 193, 134), (65, 194, 133), (65, 194, 135), (65, 194, 137), (65, 194, 143), (65, 195, 132), (65, 195, 134), (65, 196, 133), (65, 196, 139), (65, 197, 131), (65, 197, 137), (65, 198, 135), (65, 198, 136), (65, 198, 141), (65, 199, 133), (65, 199, 139), (65, 200, 132), (65, 200, 138), (65, 201, 135), (65, 201, 137), (65, 202, 134), (65, 202, 140), (65, 202, 141), (65, 203, 132), (65, 203, 139), (65, 204, 136), (65, 204, 137), (65, 205, 134), (65, 205, 141), (65, 206, 133), (65, 206, 139), (66, 191, 135), (66, 192, 140), (66, 194, 135), (66, 195, 134), (66, 195, 136), (66, 195, 144), (66, 196, 131), (66, 196, 133), (66, 196, 135), (66, 196, 141), (66, 196, 143), (66, 197, 134), (66, 197, 140), (66, 198, 131), (66, 198, 132), (66, 198, 138), (66, 199, 136), (66, 199, 137), (66, 199, 142), (66, 199, 143), (66, 200, 134), (66, 200, 140), (66, 201, 131), (66, 201, 133), (66, 201, 139), (66, 202, 130), (66, 202, 136), (66, 202, 138), (66, 203, 135), (66, 204, 140), (66, 205, 137), (66, 205, 138), (67, 191, 131), (67, 192, 136), (67, 193, 134), (67, 194, 132), (67, 194, 133), (67, 194, 138), (67, 195, 130), (67, 195, 136), (67, 196, 135), (67, 196, 137), (67, 196, 139), (67, 197, 132), (67, 197, 134), (67, 197, 136), (67, 198, 131), (67, 198, 135), (67, 198, 141), (67, 199, 129), (67, 199, 132), (67, 199, 133), (67, 199, 139), (67, 200, 137), (67, 200, 138), (67, 200, 143), (67, 201, 135), (67, 201, 141), (67, 202, 132), (67, 202, 134), (67, 202, 140), (67, 203, 131), (67, 203, 137), (67, 203, 139), (67, 204, 136), (68, 191, 133), (68, 191, 135), (68, 193, 137), (68, 194, 145), (68, 195, 133), (68, 195, 134), (68, 195, 139), (68, 196, 131), (68, 196, 137), (68, 197, 130), (68, 197, 136), (68, 197, 138), (68, 197, 140), (68, 198, 133), (68, 198, 135), (68, 198, 137), (68, 199, 132), (68, 199, 136), (68, 199, 142), (68, 200, 130), (68, 200, 133), (68, 200, 134), (68, 200, 140), (68, 201, 131), (68, 201, 138), (68, 201, 139), (68, 202, 136), (68, 203, 133), (68, 203, 135), (68, 203, 141), (68, 204, 138), (68, 204, 140), (68, 205, 137), (69, 190, 139), (69, 192, 130), (69, 192, 136), (69, 192, 142), (69, 193, 133), (69, 193, 139), (69, 194, 132), (69, 194, 138), (69, 194, 145), (69, 195, 136), (69, 195, 143), (69, 196, 134), (69, 196, 135), (69, 196, 140), (69, 196, 141), (69, 197, 132), (69, 197, 138), (69, 198, 137), (69, 198, 139), (69, 198, 141), (69, 199, 134), (69, 199, 136), (69, 199, 138), (69, 200, 133), (69, 200, 137), (69, 201, 131), (69, 201, 134), (69, 201, 135), (69, 202, 132), (69, 202, 139), (69, 202, 140), (69, 203, 131), (69, 203, 137), (69, 204, 134), (69, 204, 136), (69, 204, 142), (69, 205, 139), (69, 205, 141), (70, 190, 132), (70, 192, 138), (70, 193, 135), (70, 193, 137), (70, 194, 134), (70, 194, 140), (70, 194, 142), (70, 195, 133), (70, 195, 139), (70, 196, 131), (70, 196, 137), (70, 196, 144), (70, 197, 135), (70, 197, 136), (70, 197, 141), (70, 197, 142), (70, 198, 133), (70, 198, 139), (70, 198, 143), (70, 199, 132), (70, 199, 138), (70, 199, 140), (70, 199, 142), (70, 200, 135), (70, 200, 137), (70, 200, 139), (70, 201, 134), (70, 201, 138), (70, 202, 132), (70, 202, 135), (70, 202, 136), (70, 202, 142), (70, 203, 133), (70, 203, 140), (70, 203, 141), (70, 204, 138), (70, 205, 137), (71, 191, 133), (71, 191, 136), (71, 191, 137), (71, 193, 133), (71, 193, 139), (71, 194, 136), (71, 194, 138), (71, 194, 144), (71, 195, 135), (71, 195, 141), (71, 195, 143), (71, 196, 134), (71, 196, 140), (71, 197, 132), (71, 197, 138), (71, 198, 136), (71, 198, 137), (71, 198, 142), (71, 199, 134), (71, 199, 140), (71, 200, 133), (71, 200, 139), (71, 200, 141), (71, 200, 143), (71, 201, 136), (71, 201, 138), (71, 201, 140), (71, 202, 139), (71, 203, 133), (71, 203, 136), (71, 203, 137), (71, 204, 141), (71, 204, 142), (71, 205, 133), (72, 189, 134), (72, 189, 140), (72, 190, 137), (72, 192, 133), (72, 192, 134), (72, 192, 137), (72, 192, 138), (72, 193, 135), (72, 194, 130), (72, 194, 134), (72, 194, 140), (72, 195, 133), (72, 195, 137), (72, 195, 139), (72, 196, 136), (72, 196, 142), (72, 196, 144), (72, 197, 135), (72, 197, 141), (72, 198, 132), (72, 198, 133), (72, 198, 139), (72, 198, 146), (72, 199, 137), (72, 199, 138), (72, 199, 143), (72, 199, 144), (72, 200, 135), (72, 200, 141), (72, 201, 134), (72, 201, 140), (72, 202, 137), (72, 202, 139), (72, 202, 141), (72, 203, 140), (72, 204, 137), (72, 205, 142), (73, 190, 133), (73, 191, 138), (73, 191, 142), (73, 192, 137), (73, 193, 134), (73, 193, 135), (73, 193, 138), (73, 193, 139), (73, 194, 136), (73, 194, 143), (73, 195, 135), (73, 195, 141), (73, 196, 132), (73, 196, 134), (73, 196, 138), (73, 196, 140), (73, 197, 137), (73, 198, 136), (73, 198, 142), (73, 199, 133), (73, 199, 134), (73, 199, 140), (73, 200, 138), (73, 200, 139), (73, 200, 144), (73, 201, 136), (73, 202, 133), (73, 202, 141), (73, 203, 138), (73, 203, 140), (74, 190, 137), (74, 190, 143), (74, 191, 136), (74, 191, 142), (74, 192, 139), (74, 192, 141), (74, 192, 143), (74, 193, 132), (74, 193, 138), (74, 193, 142), (74, 194, 135), (74, 194, 136), (74, 194, 139), (74, 194, 140), (74, 195, 134), (74, 195, 137), (74, 195, 144), (74, 196, 136), (74, 196, 142), (74, 197, 133), (74, 197, 135), (74, 197, 139), (74, 197, 141), (74, 198, 132), (74, 198, 138), (74, 198, 146), (74, 199, 137), (74, 199, 143), (74, 200, 135), (74, 200, 141), (74, 200, 148), (74, 201, 139), (74, 201, 140), (74, 202, 137), (74, 202, 143), (74, 203, 136), (74, 203, 142), (74, 204, 141), (75, 189, 136), (75, 190, 133), (75, 190, 140), (75, 191, 138), (75, 192, 135), (75, 192, 137), (75, 192, 143), (75, 193, 140), (75, 193, 142), (75, 193, 145), (75, 194, 139), (75, 194, 143), (75, 195, 131), (75, 195, 136), (75, 195, 137), (75, 195, 140), (75, 195, 141), (75, 196, 135), (75, 196, 138), (75, 196, 145), (75, 197, 133), (75, 197, 137), (75, 197, 143), (75, 198, 134), (75, 198, 136), (75, 198, 140), (75, 198, 142), (75, 199, 139), (75, 200, 138), (75, 200, 144), (75, 201, 136), (75, 201, 142), (75, 202, 133), (75, 202, 140), (75, 202, 141), (75, 203, 138), (76, 190, 137), (76, 191, 134), (76, 191, 141), (76, 191, 142), (76, 192, 139), (76, 192, 145), (76, 193, 136), (76, 193, 138), (76, 193, 144), (76, 194, 135), (76, 194, 141), (76, 194, 143), (76, 195, 140), (76, 195, 144), (76, 196, 132), (76, 196, 137), (76, 196, 138), (76, 196, 141), (76, 196, 142), (76, 197, 136), (76, 197, 139), (76, 197, 146), (76, 198, 134), (76, 198, 138), (76, 198, 144), (76, 199, 135), (76, 199, 137), (76, 199, 141), (76, 199, 143), (76, 200, 134), (76, 200, 140), (76, 201, 132), (76, 201, 139), (76, 201, 145), (76, 202, 137), (76, 202, 143), (76, 203, 142), (77, 187, 135), (77, 188, 138), (77, 189, 135), (77, 190, 133), (77, 190, 140), (77, 191, 137), (77, 191, 138), (77, 191, 144), (77, 192, 135), (77, 192, 142), (77, 192, 143), (77, 192, 149), (77, 193, 134), (77, 193, 140), (77, 194, 137), (77, 194, 139), (77, 194, 145), (77, 195, 130), (77, 195, 136), (77, 195, 142), (77, 195, 144), (77, 196, 135), (77, 196, 141), (77, 196, 145), (77, 197, 133), (77, 197, 138), (77, 197, 139), (77, 197, 142), (77, 197, 143), (77, 198, 137), (77, 198, 140), (77, 199, 139), (77, 199, 145), (77, 200, 136), (77, 200, 142), (77, 200, 144), (77, 201, 141), (77, 202, 140), (78, 188, 136), (78, 190, 136), (78, 190, 143), (78, 191, 141), (78, 192, 138), (78, 192, 139), (78, 193, 136), (78, 193, 143), (78, 193, 144), (78, 194, 135), (78, 194, 141), (78, 195, 134), (78, 195, 138), (78, 195, 140), (78, 195, 146), (78, 196, 137), (78, 196, 143), (78, 196, 145), (78, 197, 136), (78, 197, 142), (78, 198, 134), (78, 198, 139), (78, 198, 140), (78, 198, 143), (78, 198, 144), (78, 199, 138), (78, 200, 140), (78, 201, 137), (78, 201, 139), (78, 202, 136), (79, 189, 137), (79, 189, 141), (79, 190, 138), (79, 191, 137), (79, 191, 143), (79, 191, 144), (79, 192, 135), (79, 192, 142), (79, 193, 139), (79, 193, 140), (79, 193, 146), (79, 194, 137), (79, 194, 144), (79, 194, 145), (79, 195, 136), (79, 195, 142), (79, 196, 133), (79, 196, 135), (79, 196, 139), (79, 196, 141), (79, 197, 138), (79, 197, 144), (79, 197, 146), (79, 198, 137), (79, 198, 143), (79, 199, 134), (79, 199, 140), (79, 199, 141), (79, 199, 144), (79, 199, 145), (79, 201, 137), (79, 201, 141), (80, 189, 140), (80, 189, 143), (80, 190, 138), (80, 190, 142), (80, 190, 148), (80, 191, 137), (80, 191, 139), (80, 191, 141), (80, 192, 138), (80, 192, 144), (80, 192, 145), (80, 193, 135), (80, 193, 136), (80, 193, 143), (80, 193, 149), (80, 194, 140), (80, 194, 141), (80, 195, 138), (80, 195, 145), (80, 195, 146), (80, 196, 137), (80, 196, 143), (80, 197, 136), (80, 197, 140), (80, 197, 142), (80, 198, 139), (80, 199, 138), (80, 199, 144), (80, 201, 140), (81, 188, 145), (81, 189, 143), (81, 189, 146), (81, 190, 134), (81, 190, 141), (81, 190, 142), (81, 190, 144), (81, 191, 139), (81, 191, 143), (81, 192, 136), (81, 192, 138), (81, 192, 140), (81, 192, 142), (81, 193, 139), (81, 193, 145), (81, 194, 136), (81, 194, 137), (81, 194, 144), (81, 195, 135), (81, 195, 141), (81, 195, 142), (81, 196, 139), (81, 196, 146), (81, 197, 138), (81, 197, 144), (81, 198, 137), (81, 198, 141), (81, 198, 143), (81, 199, 140), (81, 199, 146), (81, 200, 139), (81, 201, 142), (81, 203, 143), (82, 187, 142), (82, 188, 141), (82, 190, 137), (82, 190, 138), (82, 190, 144), (82, 191, 142), (82, 191, 143), (82, 191, 145), (82, 192, 140), (82, 192, 144), (82, 193, 137), (82, 193, 139), (82, 193, 141), (82, 193, 143), (82, 194, 136), (82, 194, 140), (82, 194, 146), (82, 195, 135), (82, 195, 137), (82, 195, 138), (82, 195, 145), (82, 196, 136), (82, 196, 142), (82, 196, 143), (82, 197, 140), (82, 197, 147), (82, 198, 139), (82, 199, 138), (82, 199, 142), (82, 199, 144), (82, 200, 141), (82, 201, 140), (83, 186, 141), (83, 189, 142), (83, 190, 134), (83, 190, 141), (83, 191, 138), (83, 191, 139), (83, 191, 145), (83, 192, 143), (83, 192, 144), (83, 192, 146), (83, 193, 141), (83, 193, 145), (83, 194, 138), (83, 194, 140), (83, 194, 142), (83, 194, 144), (83, 195, 137), (83, 195, 141), (83, 196, 136), (83, 196, 138), (83, 196, 139), (83, 196, 146), (83, 197, 143), (83, 197, 144), (83, 198, 135), (83, 198, 141), (83, 199, 140), (84, 189, 138), (84, 189, 144), (84, 190, 137), (84, 190, 143), (84, 191, 134), (84, 191, 135), (84, 191, 142), (84, 192, 139), (84, 192, 140), (84, 192, 146), (84, 193, 137), (84, 193, 144), (84, 193, 145), (84, 193, 147), (84, 194, 136), (84, 194, 142), (84, 194, 146), (84, 195, 139), (84, 195, 141), (84, 195, 143), (84, 195, 145), (84, 196, 138), (84, 196, 142), (84, 196, 149), (84, 197, 139), (84, 197, 140), (84, 197, 147), (84, 198, 144), (84, 198, 145), (84, 199, 136), (84, 199, 142), (85, 186, 141), (85, 187, 139), (85, 187, 140), (85, 187, 145), (85, 189, 142), (85, 190, 139), (85, 190, 141), (85, 190, 145), (85, 190, 153), (85, 191, 138), (85, 191, 144), (85, 192, 136), (85, 192, 143), (85, 192, 153), (85, 193, 140), (85, 193, 141), (85, 193, 147), (85, 193, 151), (85, 194, 138), (85, 194, 145), (85, 194, 146), (85, 194, 148), (85, 195, 136), (85, 195, 137), (85, 195, 143), (85, 195, 147), (85, 196, 140), (85, 196, 142), (85, 196, 144), (85, 196, 146), (85, 197, 139), (85, 197, 143), (85, 198, 140), (85, 200, 137), (86, 186, 144), (86, 187, 142), (86, 188, 140), (86, 189, 138), (86, 189, 144), (86, 189, 151), (86, 190, 143), (86, 190, 149), (86, 191, 140), (86, 191, 142), (86, 191, 146), (86, 192, 139), (86, 192, 145), (86, 193, 144), (86, 194, 141), (86, 194, 142), (86, 194, 148), (86, 195, 139), (86, 195, 146), (86, 195, 147), (86, 196, 138), (86, 196, 144), (86, 196, 148), (86, 197, 141), (86, 197, 143), (86, 197, 145), (86, 198, 144), (86, 198, 151), (86, 199, 142), (87, 186, 140), (87, 188, 143), (87, 189, 141), (87, 189, 142), (87, 190, 139), (87, 190, 145), (87, 191, 138), (87, 191, 144), (87, 192, 141), (87, 192, 143), (87, 193, 140), (87, 193, 146), (87, 194, 138), (87, 194, 145), (87, 195, 136), (87, 195, 142), (87, 195, 143), (87, 195, 149), (87, 196, 140), (87, 196, 147), (87, 196, 148), (87, 197, 139), (87, 197, 145), (87, 197, 149), (87, 198, 144), (87, 199, 145), (87, 200, 143), (88, 185, 141), (88, 186, 142), (88, 186, 144), (88, 187, 141), (88, 188, 140), (88, 188, 146), (88, 189, 138), (88, 189, 144), (88, 190, 142), (88, 190, 143), (88, 191, 140), (88, 192, 139), (88, 192, 145), (88, 193, 142), (88, 193, 144), (88, 193, 148), (88, 194, 141), (88, 194, 147), (88, 195, 138), (88, 195, 146), (88, 196, 143), (88, 196, 144), (88, 197, 141), (88, 197, 148), (88, 198, 139), (88, 198, 140), (88, 202, 148), (89, 186, 142), (89, 187, 141), (89, 187, 143), (89, 187, 145), (89, 188, 142), (89, 189, 137), (89, 189, 141), (89, 190, 139), (89, 190, 145), (89, 191, 143), (89, 191, 144), (89, 192, 141), (89, 192, 147), (89, 193, 138), (89, 193, 140), (89, 193, 146), (89, 194, 137), (89, 194, 143), (89, 194, 145), (89, 194, 149), (89, 195, 136), (89, 195, 142), (89, 195, 148), (89, 196, 139), (89, 196, 140), (89, 196, 147), (89, 197, 144), (89, 197, 145), (90, 185, 140), (90, 187, 143), (90, 187, 147), (90, 188, 142), (90, 188, 144), (90, 189, 141), (90, 189, 143), (90, 190, 138), (90, 190, 142), (90, 190, 148), (90, 191, 140), (90, 191, 146), (90, 192, 137), (90, 192, 144), (90, 192, 145), (90, 192, 151), (90, 193, 142), (90, 193, 148), (90, 194, 139), (90, 194, 141), (90, 194, 147), (90, 195, 138), (90, 195, 144), (90, 195, 146), (90, 196, 143), (90, 197, 141), (90, 197, 148), (90, 198, 146), (91, 181, 138), (91, 185, 144), (91, 186, 141), (91, 186, 142), (91, 187, 146), (91, 188, 138), (91, 188, 144), (91, 188, 148), (91, 189, 143), (91, 189, 145), (91, 189, 147), (91, 190, 140), (91, 190, 142), (91, 190, 144), (91, 191, 139), (91, 191, 143), (91, 192, 137), (91, 192, 141), (91, 192, 147), (91, 193, 138), (91, 193, 145), (91, 193, 146), (91, 194, 137), (91, 194, 143), (91, 195, 140), (91, 195, 142), (91, 195, 148), (91, 196, 145), (91, 196, 147), (91, 197, 144), (91, 199, 147), (92, 184, 141), (92, 186, 145), (92, 187, 142), (92, 187, 143), (92, 187, 150), (92, 188, 141), (92, 188, 147), (92, 188, 148), (92, 188, 152), (92, 189, 145), (92, 190, 144), (92, 190, 146), (92, 191, 141), (92, 191, 143), (92, 191, 145), (92, 192, 140), (92, 192, 144), (92, 192, 150), (92, 193, 138), (92, 193, 141), (92, 193, 142), (92, 193, 148), (92, 194, 139), (92, 194, 146), (92, 194, 147), (92, 195, 144), (92, 196, 149), (93, 185, 142), (93, 185, 144), (93, 186, 141), (93, 186, 147), (93, 187, 146), (93, 188, 143), (93, 188, 144), (93, 189, 142), (93, 189, 148), (93, 190, 140), (93, 190, 146), (93, 190, 150), (93, 191, 145), (93, 191, 147), (93, 192, 142), (93, 192, 144), (93, 192, 146), (93, 193, 141), (93, 193, 145), (93, 194, 143), (93, 195, 147), (93, 195, 148), (93, 196, 145), (93, 201, 148), (94, 183, 139), (94, 183, 143), (94, 185, 146), (94, 186, 145), (94, 187, 142), (94, 187, 148), (94, 187, 150), (94, 188, 94), (94, 188, 141), (94, 188, 147), (94, 189, 139), (94, 189, 144), (94, 189, 145), (94, 190, 143), (94, 190, 149), (94, 190, 150), (94, 191, 141), (94, 191, 147), (94, 192, 138), (94, 192, 140), (94, 192, 146), (94, 192, 148), (94, 192, 150), (94, 193, 137), (94, 193, 143), (94, 193, 145), (94, 194, 142), (94, 194, 146), (94, 195, 143), (94, 195, 144), (94, 196, 141), (95, 184, 144), (95, 185, 142), (95, 186, 141), (95, 186, 147), (95, 187, 140), (95, 187, 144), (95, 187, 146), (95, 188, 143), (95, 188, 149), (95, 189, 95), (95, 189, 142), (95, 189, 148), (95, 190, 140), (95, 190, 145), (95, 190, 146), (95, 191, 144), (95, 191, 150), (95, 192, 142), (95, 192, 148), (95, 193, 141), (95, 193, 147), (95, 194, 144), (95, 194, 146), (95, 194, 148), (95, 195, 147), (96, 184, 144), (96, 185, 145), (96, 186, 143), (96, 187, 142), (96, 187, 148), (96, 188, 145), (96, 188, 147), (96, 189, 144), (96, 189, 150), (96, 189, 152), (96, 190, 96), (96, 190, 143), (96, 190, 149), (96, 191, 141), (96, 191, 146), (96, 191, 147), (96, 192, 145), (96, 193, 143), (96, 193, 149), (96, 194, 142), (96, 194, 148), (96, 195, 145), (96, 195, 147), (96, 195, 149), (96, 196, 144), (97, 185, 145), (97, 186, 142), (97, 186, 143), (97, 186, 146), (97, 186, 147), (97, 187, 144), (97, 188, 143), (97, 188, 149), (97, 189, 142), (97, 189, 146), (97, 189, 148), (97, 190, 145), (97, 191, 144), (97, 191, 150), (97, 192, 141), (97, 192, 147), (97, 192, 148), (97, 193, 146), (97, 195, 143), (97, 197, 149), (97, 198, 147), (98, 184, 142), (98, 185, 147), (98, 186, 146), (98, 187, 143), (98, 187, 144), (98, 187, 147), (98, 187, 148), (98, 188, 145), (98, 188, 153), (98, 189, 144), (98, 189, 150), (98, 190, 143), (98, 190, 147), (98, 190, 149), (98, 191, 146), (98, 191, 152), (98, 192, 138), (98, 192, 145), (98, 193, 148), (98, 193, 149), (98, 197, 149), (99, 184, 146), (99, 185, 145), (99, 186, 148), (99, 186, 150), (99, 187, 147), (99, 187, 151), (99, 188, 144), (99, 188, 145), (99, 188, 149), (99, 189, 146), (99, 190, 141), (99, 190, 145), (99, 191, 142), (99, 191, 144), (99, 191, 148), (99, 191, 150), (99, 192, 147), (99, 193, 146), (100, 184, 136), (100, 184, 142), (100, 186, 144), (100, 186, 146), (100, 187, 149), (100, 187, 151), (100, 188, 142), (100, 188, 148), (100, 189, 145), (100, 189, 146), (100, 189, 149), (100, 189, 150), (100, 190, 147), (100, 191, 146), (100, 192, 145), (100, 192, 149), (100, 192, 151), (100, 193, 148), (100, 195, 150), (101, 184, 145), (101, 185, 143), (101, 187, 145), (101, 187, 147), (101, 188, 144), (101, 188, 150), (101, 189, 143), (101, 189, 149), (101, 190, 146), (101, 190, 147), (101, 190, 150), (101, 191, 145), (101, 191, 148), (101, 192, 147), (101, 193, 144), (102, 185, 146), (102, 186, 144), (102, 187, 149), (102, 188, 146), (102, 188, 148), (102, 189, 151), (102, 190, 144), (102, 191, 142), (102, 191, 147), (102, 191, 148), (102, 192, 146), (102, 194, 147), (102, 194, 151), (103, 186, 147), (103, 187, 145), (103, 188, 150), (103, 189, 147), (103, 189, 149), (103, 194, 149), (104, 186, 144), (104, 187, 148), (104, 187, 149), (104, 188, 146), (104, 190, 148), (105, 186, 147), (105, 187, 145), (105, 188, 150), (105, 191, 149), (105, 191, 151), (106, 185, 152), (106, 186, 149), (106, 188, 146), (106, 192, 152), (107, 185, 148), (107, 188, 149), (107, 190, 151), (107, 191, 149), (108, 186, 149), (108, 190, 147), (109, 185, 151), (109, 187, 150), (109, 193, 151), (111, 188, 151), (125, 180, 153)]\n"
     ]
    }
   ],
   "source": [
    "print(sorted(set( tuple(v) for m2d in train_image for v in m2d )))"
   ]
  },
  {
   "cell_type": "code",
   "execution_count": 9,
   "metadata": {
    "scrolled": true
   },
   "outputs": [
    {
     "data": {
      "image/png": "[encoded data removed]",
      "text/plain": [
       "<matplotlib.figure.Figure at 0x7fcffab9de10>"
      ]
     },
     "metadata": {},
     "output_type": "display_data"
    }
   ],
   "source": [
    "\n",
    "img = cv2.imread('train/masks/1406.png',0)\n",
    "retval, threshold = cv2.threshold(img, 150, 1, cv2.THRESH_BINARY)\n",
    "plt.imshow(threshold)\n",
    "plt.show()"
   ]
  },
  {
   "cell_type": "code",
   "execution_count": 10,
   "metadata": {},
   "outputs": [
    {
     "data": {
      "text/plain": [
       "array([0, 1], dtype=uint8)"
      ]
     },
     "execution_count": 10,
     "metadata": {},
     "output_type": "execute_result"
    }
   ],
   "source": [
    "np.unique(threshold)"
   ]
  },
  {
   "cell_type": "code",
   "execution_count": null,
   "metadata": {},
   "outputs": [],
   "source": []
  }
 ],
 "metadata": {
  "kernelspec": {
   "display_name": "Python 3",
   "language": "python",
   "name": "python3"
  },
  "language_info": {
   "codemirror_mode": {
    "name": "ipython",
    "version": 3
   },
   "file_extension": ".py",
   "mimetype": "text/x-python",
   "name": "python",
   "nbconvert_exporter": "python",
   "pygments_lexer": "ipython3",
   "version": "3.5.2"
  }
 },
 "nbformat": 4,
 "nbformat_minor": 2
}
