{
 "cells": [
  {
   "cell_type": "code",
   "execution_count": null,
   "metadata": {},
   "outputs": [],
   "source": [
    "import matplotlib.pyplot as plt\n",
    "%matplotlib inline\n",
    "import numpy as np\n",
    "import cv2\n",
    "from os.path import join\n",
    "import os\n",
    "import random\n",
    "import glob\n",
    "import re\n",
    "\n",
    "import ntpathimg"
   ]
  },
  {
   "cell_type": "code",
   "execution_count": null,
   "metadata": {},
   "outputs": [],
   "source": [
    "import itertools\n",
    "import operator\n",
    "\n",
    "def most_common(L):\n",
    "  # get an iterable of (item, iterable) pairs\n",
    "  SL = sorted((x, i) for i, x in enumerate(L))\n",
    "  # print 'SL:', SL\n",
    "  groups = itertools.groupby(SL, key=operator.itemgetter(0))\n",
    "  # auxiliary function to get \"quality\" for an item\n",
    "  def _auxfun(g):\n",
    "    item, iterable = g\n",
    "    count = 0\n",
    "    min_index = len(L)\n",
    "    for _, where in iterable:\n",
    "      count += 1\n",
    "      min_index = min(min_index, where)\n",
    "    # print 'item %r, count %r, minind %r' % (item, count, min_index)\n",
    "    return count, -min_index\n",
    "  # pick the highest-count/earliest item\n",
    "  return max(groups, key=_auxfun)[0]\n",
    "\n",
    "\n"
   ]
  },
  {
   "cell_type": "code",
   "execution_count": null,
   "metadata": {},
   "outputs": [],
   "source": [
    "orig_path = \"masks/training/mask/*\"\n",
    "#output_mask_path = \"masks/output/\"\n",
    "orig = glob.glob(orig_path)\n",
    "for fl in orig:\n",
    "    e=cv2.imread(fl)\n",
    "    "
   ]
  },
  {
   "cell_type": "code",
   "execution_count": null,
   "metadata": {},
   "outputs": [],
   "source": [
    "/home/ubuntu/research/"
   ]
  },
  {
   "cell_type": "code",
   "execution_count": null,
   "metadata": {},
   "outputs": [],
   "source": [
    "!ls\n"
   ]
  },
  {
   "cell_type": "code",
   "execution_count": null,
   "metadata": {},
   "outputs": [],
   "source": [
    "d = cv2.imread('01.png')\n",
    "print(sorted(set( tuple(v) for m2d in d for v in m2d )))"
   ]
  },
  {
   "cell_type": "code",
   "execution_count": null,
   "metadata": {},
   "outputs": [],
   "source": [
    "d = cv2.imread('1902.jpg')\n",
    "plt.imshow(d)\n",
    "plt.show()\n",
    "lower_black = np.array([10,10,10], dtype = \"uint16\")\n",
    "upper_black = np.array([255,255,255], dtype = \"uint16\")\n",
    "black_mask = cv2.inRange(d, lower_black, upper_black)\n",
    "plt.imshow(black_mask)\n",
    "plt.show()"
   ]
  },
  {
   "cell_type": "code",
   "execution_count": null,
   "metadata": {},
   "outputs": [],
   "source": [
    "np.unique(black_mask)\n",
    "backtorgb = cv2.cvtColor(black_mask,cv2.COLOR_GRAY2RGB)\n",
    "print(sorted(set( tuple(v) for m2d in backtorgb for v in m2d )))"
   ]
  },
  {
   "cell_type": "code",
   "execution_count": null,
   "metadata": {},
   "outputs": [],
   "source": [
    "backtorgb[np.where((backtorgb==[255,255,255]).all(axis=2))] = [85, 194, 138]\n",
    "plt.imshow(backtorgb)"
   ]
  },
  {
   "cell_type": "code",
   "execution_count": null,
   "metadata": {},
   "outputs": [],
   "source": [
    "f='a.png'\n",
    "line = re.sub('.png', '', f)\n",
    "print(line+'.png')"
   ]
  },
  {
   "cell_type": "code",
   "execution_count": null,
   "metadata": {},
   "outputs": [],
   "source": [
    "# Now we do this for all the images in our folder\n",
    "orig_path = \"masks/training/masks/*.jpg\"\n",
    "final_path = \"masks/training/gen_uniform/\"\n",
    "#output_mask_path = \"masks/output/\"\n",
    "orig = glob.glob(orig_path)\n",
    "for fl in orig:\n",
    "    read_mask=cv2.imread(fl)\n",
    "    lower_black = np.array([10,10,10], dtype = \"uint16\")\n",
    "    upper_black = np.array([255,255,255], dtype = \"uint16\")\n",
    "    black_mask = cv2.inRange(read_mask, lower_black, upper_black)\n",
    "    backtorgb = cv2.cvtColor(black_mask,cv2.COLOR_GRAY2RGB)\n",
    "    backtorgb[np.where((backtorgb==[255,255,255]).all(axis=2))] = [126,211,33]\n",
    "    basenm = ntpath.basename(fl)\n",
    "    basenm = re.sub('.jpg', '', basenm)\n",
    "    basenm = basenm + '.png'\n",
    "    nm_output_mask = final_path+basenm\n",
    "    cv2.imwrite(nm_output_mask,backtorgb)\n",
    "    \n",
    "orig_path_bw = \"masks/training/masks/*.png\"\n",
    "final_path = \"masks/training/gen_uniform/\"\n",
    "#output_mask_path = \"masks/output/\"\n",
    "orig = glob.glob(orig_path_bw)\n",
    "for fl in orig:\n",
    "    read_mask=cv2.imread(fl)\n",
    "    backtorgb = cv2.cvtColor(black_mask,cv2.COLOR_GRAY2RGB)\n",
    "    backtorgb[np.where((backtorgb==[255,255,255]).all(axis=2))] = [126,211,33]\n",
    "    basenm = ntpath.basename(fl)\n",
    "    basenm = re.sub('.png', '', basenm)\n",
    "    basenm = basenm + '.png'\n",
    "    nm_output_mask = final_path+basenm\n",
    "    cv2.imwrite(nm_output_mask,backtorgb)"
   ]
  },
  {
   "cell_type": "code",
   "execution_count": null,
   "metadata": {},
   "outputs": [],
   "source": [
    "# Now we do this for all the images in our folder\n",
    "orig_path = \"masks/training/batch_2/origi/*\"\n",
    "final_path = \"masks/training/converted/\"\n",
    "#output_mask_path = \"masks/output/\"\n",
    "orig = glob.glob(orig_path)\n",
    "for fl in orig:\n",
    "    read_mask=cv2.imread(fl)\n",
    "    basenm = ntpath.basename(fl)\n",
    "    basenm = re.sub('.jpg', '.png', basenm)\n",
    "    nm_output_mask = final_path+basenm\n",
    "    cv2.imwrite(nm_output_mask,read_mask)"
   ]
  },
  {
   "cell_type": "code",
   "execution_count": null,
   "metadata": {},
   "outputs": [],
   "source": [
    "check=cv2.imread('masks/training/gen_uniform/4231.png')\n",
    "plt.imshow(check)"
   ]
  },
  {
   "cell_type": "code",
   "execution_count": null,
   "metadata": {},
   "outputs": [],
   "source": [
    "final_path = \"masks/training/gen_uniform/*\"\n",
    "orig_path=\"masks/training/origi/*\"\n",
    "orig = glob.glob(orig_path)\n",
    "mas = glob.glob(final_path)\n",
    "ori_names=np.array([])\n",
    "mask_names=np.array([])\n",
    "for fl in orig:\n",
    "    basenm = ntpath.basename(fl)\n",
    "    basenm = re.sub('.png', '', basenm)\n",
    "    np.append(ori_names, basenm)\n",
    "for fl in mas:\n",
    "    basenm = ntpath.basename(fl)\n",
    "    basenm = re.sub('.png', '', basenm)\n",
    "    np.append(mask_names, basenm)\n",
    "    \n",
    "print(np.array_equal(np.sort(ori_names), np.sort(mask_names)))"
   ]
  },
  {
   "cell_type": "code",
   "execution_count": null,
   "metadata": {},
   "outputs": [],
   "source": [
    "orig_path = \"masks/training/ori/*\"\n",
    "final_path = \"masks/training/oriogtopng/\"\n",
    "#output_mask_path = \"masks/output/\"\n",
    "orig = glob.glob(orig_path)\n",
    "for fl in orig:\n",
    "    e=cv2.imread(fl)\n",
    "    basenm = ntpath.basename(fl)\n",
    "    basenm = re.sub('.jpg', '.png', basenm)\n",
    "    nm_output_mask = final_path+basenm\n",
    "    cv2.imwrite(nm_output_mask,e)"
   ]
  },
  {
   "cell_type": "code",
   "execution_count": null,
   "metadata": {},
   "outputs": [],
   "source": [
    "mask_path = \"masks/training/batch_2/gen_uniform/*\"\n",
    "orig_path = \"masks/training/batch_2/origi/*\"\n",
    "final_mask_path = \"masks/training/maskjpg/\"\n",
    "final_orig_path = \"masks/training/orijpg/\"\n",
    "orig = glob.glob(orig_path)\n",
    "for fl in orig:\n",
    "    e=cv2.imread(fl)\n",
    "    basenm = ntpath.basename(fl)\n",
    "    basenm = re.sub('.png', '.jpg', basenm)\n",
    "    nm_output_mask = final_orig_path+basenm\n",
    "    cv2.imwrite(nm_output_mask,e)\n",
    "    \n",
    "maski = glob.glob(mask_path)\n",
    "for fl in maski:\n",
    "    e=cv2.imread(fl)\n",
    "    basenm = nthellopath.basename(fl)\n",
    "    basenm = re.sub('.png', '.jpg', basenm)\n",
    "    nm_output_mask = final_mask_path+basenm\n",
    "    cv2.imwrite(nm_output_mask,e)"
   ]
  },
  {
   "cell_type": "code",
   "execution_count": 13,
   "metadata": {},
   "outputs": [],
   "source": [
    "orig_path = \"unet_train/orig/*\"\n",
    "orig = glob.glob(orig_path)\n",
    "df=np.array([])\n",
    "for fl in orig:\n",
    "    e=cv2.imread(fl)\n",
    "    df = np.append(df,e.shape)"
   ]
  },
  {
   "cell_type": "code",
   "execution_count": 14,
   "metadata": {},
   "outputs": [
    {
     "data": {
      "text/plain": [
       "(186,)"
      ]
     },
     "execution_count": 14,
     "metadata": {},
     "output_type": "execute_result"
    }
   ],
   "source": [
    "df.shape"
   ]
  },
  {
   "cell_type": "code",
   "execution_count": 15,
   "metadata": {},
   "outputs": [
    {
     "data": {
      "text/plain": [
       "1342.8763440860216"
      ]
     },
     "execution_count": 15,
     "metadata": {},
     "output_type": "execute_result"
    }
   ],
   "source": [
    "np.mean(df)"
   ]
  },
  {
   "cell_type": "code",
   "execution_count": 16,
   "metadata": {},
   "outputs": [
    {
     "data": {
      "text/plain": [
       "2040.0"
      ]
     },
     "execution_count": 16,
     "metadata": {},
     "output_type": "execute_result"
    }
   ],
   "source": [
    "df[1]"
   ]
  },
  {
   "cell_type": "code",
   "execution_count": null,
   "metadata": {},
   "outputs": [],
   "source": [
    "import cv2\n",
    "f=cv2.imread('1902.jpg')\n",
    "f = cv2.resize(f, (2048, 2048))\n",
    "set( tuple(v) for m2d in f for v in m2d )"
   ]
  },
  {
   "cell_type": "code",
   "execution_count": null,
   "metadata": {},
   "outputs": [],
   "source": []
  }
 ],
 "metadata": {
  "kernelspec": {
   "display_name": "Python 3",
   "language": "python",
   "name": "python3"
  },
  "language_info": {
   "codemirror_mode": {
    "name": "ipython",
    "version": 3
   },
   "file_extension": ".py",
   "mimetype": "text/x-python",
   "name": "python",
   "nbconvert_exporter": "python",
   "pygments_lexer": "ipython3",
   "version": "3.5.2"
  }
 },
 "nbformat": 4,
 "nbformat_minor": 2
}
